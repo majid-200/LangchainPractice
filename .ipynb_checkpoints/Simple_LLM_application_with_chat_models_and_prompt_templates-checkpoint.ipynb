{
 "cells": [
  {
   "cell_type": "markdown",
   "id": "624e0c13-3fba-4f7e-a964-56725ec8ecd7",
   "metadata": {},
   "source": [
    "## Using Ollama as the model provider"
   ]
  },
  {
   "cell_type": "code",
   "execution_count": 1,
   "id": "25eba353-2260-49d2-a9fc-073cad2e7b28",
   "metadata": {},
   "outputs": [],
   "source": [
    "from langchain_ollama import ChatOllama"
   ]
  },
  {
   "cell_type": "code",
   "execution_count": 2,
   "id": "34f3bbf4-08ab-4850-a8bc-f11f981ac299",
   "metadata": {},
   "outputs": [],
   "source": [
    "model = ChatOllama(\n",
    "    model=\"qwen3\",\n",
    "    temperature=0,\n",
    "    # other params...\n",
    ")"
   ]
  },
  {
   "cell_type": "code",
   "execution_count": 3,
   "id": "7bd38410-512f-4ec0-85c4-837346005b01",
   "metadata": {},
   "outputs": [
    {
     "data": {
      "text/plain": [
       "AIMessage(content='<think>\\nOkay, the user wants to translate \"Hi!\" from English to Italian. Let me think about the appropriate greeting in Italian.\\n\\n\"Hi\" can be translated as \"Ciao\" in Italian, which is the most common and informal greeting. However, I should consider if there\\'s a more formal alternative. \"Buongiorno\" is a formal greeting, but it\\'s more like \"Good day.\" Since the original is casual, \"Ciao\" is the best fit. \\n\\nWait, are there any other variations? \"Salve\" is another greeting, but it\\'s more of a \"hello\" in a formal context. \"Ciao\" is definitely the standard for informal use. \\n\\nI should also check if the user might be looking for a specific tone or context. Since they just said \"Hi!\" without any additional context, \"Ciao\" is the safest and most natural translation. \\n\\nNo need to overcomplicate it. The answer should be straightforward. Let me confirm by thinking of common usage. Yes, \"Ciao\" is used in everyday conversations. So the translation is correct.\\n</think>\\n\\nCiao!', additional_kwargs={}, response_metadata={'model': 'qwen3', 'created_at': '2025-08-04T12:14:35.4396063Z', 'done': True, 'done_reason': 'stop', 'total_duration': 4575098700, 'load_duration': 31124200, 'prompt_eval_count': 22, 'prompt_eval_duration': 120914000, 'eval_count': 231, 'eval_duration': 4422014800, 'model_name': 'qwen3'}, id='run--b371625b-c0bb-42b5-a559-e73b82bb51ca-0', usage_metadata={'input_tokens': 22, 'output_tokens': 231, 'total_tokens': 253})"
      ]
     },
     "execution_count": 3,
     "metadata": {},
     "output_type": "execute_result"
    }
   ],
   "source": [
    "from langchain_core.messages import HumanMessage, SystemMessage\n",
    "\n",
    "messages = [\n",
    "    SystemMessage(\"translate the following from English into Italian\"),\n",
    "    HumanMessage(\"Hi!\")\n",
    "]\n",
    "\n",
    "model.invoke(messages)"
   ]
  },
  {
   "cell_type": "code",
   "execution_count": 4,
   "id": "64dcff76-d449-4208-a35c-3f879935a366",
   "metadata": {},
   "outputs": [
    {
     "data": {
      "text/plain": [
       "AIMessage(content='<think>\\nOkay, the user said \"Hello\". I need to respond appropriately. Since it\\'s a greeting, I should acknowledge it and offer assistance. Let me make sure the response is friendly and open-ended. Maybe something like, \"Hello! How can I assist you today?\" That sounds good. It\\'s polite and invites them to ask for help. I don\\'t need to add anything else unless they have a specific question. Keep it simple and welcoming.\\n</think>\\n\\nHello! How can I assist you today? 😊', additional_kwargs={}, response_metadata={'model': 'qwen3', 'created_at': '2025-08-04T12:14:37.4498591Z', 'done': True, 'done_reason': 'stop', 'total_duration': 2001252900, 'load_duration': 28974600, 'prompt_eval_count': 9, 'prompt_eval_duration': 11272400, 'eval_count': 106, 'eval_duration': 1959488900, 'model_name': 'qwen3'}, id='run--3a8c8dc2-0b6f-4ced-9639-72d8f45063ba-0', usage_metadata={'input_tokens': 9, 'output_tokens': 106, 'total_tokens': 115})"
      ]
     },
     "execution_count": 4,
     "metadata": {},
     "output_type": "execute_result"
    }
   ],
   "source": [
    "model.invoke(\"Hello\")"
   ]
  },
  {
   "cell_type": "code",
   "execution_count": 5,
   "id": "4818afa4-ce68-479e-9790-5ae50d2bd817",
   "metadata": {},
   "outputs": [
    {
     "data": {
      "text/plain": [
       "AIMessage(content='<think>\\nOkay, the user said \"Hello\". I should respond in a friendly and welcoming manner. Let me make sure to acknowledge their greeting and offer assistance. Maybe start with a cheerful \"Hello!\" to match their greeting. Then, ask how I can help them today. Keep it simple and open-ended so they feel comfortable sharing what they need. Avoid any complex language or assumptions. Just a straightforward, polite response. Let me check for any typos or errors. Yep, that looks good. Ready to send.\\n</think>\\n\\nHello! 😊 How can I assist you today?', additional_kwargs={}, response_metadata={'model': 'qwen3', 'created_at': '2025-08-04T12:14:39.7164673Z', 'done': True, 'done_reason': 'stop', 'total_duration': 2259088500, 'load_duration': 29254200, 'prompt_eval_count': 9, 'prompt_eval_duration': 4693100, 'eval_count': 118, 'eval_duration': 2220541000, 'model_name': 'qwen3'}, id='run--71193bfd-00f0-46ac-898e-ef25915a9089-0', usage_metadata={'input_tokens': 9, 'output_tokens': 118, 'total_tokens': 127})"
      ]
     },
     "execution_count": 5,
     "metadata": {},
     "output_type": "execute_result"
    }
   ],
   "source": [
    "model.invoke([{\"role\": \"user\", \"content\": \"Hello\"}])"
   ]
  },
  {
   "cell_type": "code",
   "execution_count": 6,
   "id": "669f7366-511d-4c42-aaef-84ca9cf81951",
   "metadata": {},
   "outputs": [
    {
     "data": {
      "text/plain": [
       "AIMessage(content='<think>\\nOkay, the user said \"Hello\". I should respond in a friendly and welcoming manner. Let me make sure to acknowledge their greeting and offer assistance. Maybe start with a cheerful \"Hello!\" to match their greeting. Then, ask how I can help them today. Keep it simple and open-ended so they feel comfortable sharing what they need. Avoid any complex language or assumptions. Just a straightforward, polite response. Let me check for any typos or errors. Yep, that looks good. Ready to send.\\n</think>\\n\\nHello! 😊 How can I assist you today?', additional_kwargs={}, response_metadata={'model': 'qwen3', 'created_at': '2025-08-04T12:14:41.9754258Z', 'done': True, 'done_reason': 'stop', 'total_duration': 2251749300, 'load_duration': 31380800, 'prompt_eval_count': 9, 'prompt_eval_duration': 3626200, 'eval_count': 118, 'eval_duration': 2216742300, 'model_name': 'qwen3'}, id='run--1f3dfbe2-530e-4ede-bfe9-e0503b0e702e-0', usage_metadata={'input_tokens': 9, 'output_tokens': 118, 'total_tokens': 127})"
      ]
     },
     "execution_count": 6,
     "metadata": {},
     "output_type": "execute_result"
    }
   ],
   "source": [
    "model.invoke([HumanMessage(\"Hello\")])"
   ]
  },
  {
   "cell_type": "markdown",
   "id": "f162dd5e-5439-4172-a826-5538f34c405e",
   "metadata": {},
   "source": [
    "## Streaming"
   ]
  },
  {
   "cell_type": "code",
   "execution_count": 7,
   "id": "8ff263e4-571a-4282-9f54-5ed2fe60e12a",
   "metadata": {},
   "outputs": [
    {
     "name": "stdout",
     "output_type": "stream",
     "text": [
      "<think>|\n",
      "|Okay|,| the| user| wants| to| translate| \"|Hi|!\"| from| English| to| Italian|.| Let| me| think| about| the| appropriate| greeting| in| Italian|.\n",
      "\n",
      "|\"|Hi|\"| can| be| translated| as| \"|C|iao|\"| in| Italian|,| which| is| the| most| common| and| informal| greeting|.| However|,| I| should| consider| if| there|'s| a| more| formal| alternative|.| \"|Bu|ong|i|orno|\"| is| a| formal| greeting|,| but| it|'s| more| like| \"|Good| day|.\"| Since| the| original| is| casual|,| \"|C|iao|\"| is| the| best| fit|.| \n",
      "\n",
      "|Wait|,| are| there| any| other| variations|?| \"|Sal|ve|\"| is| another| greeting|,| but| it|'s| more| of| a| \"|hello|\"| in| a| formal| context|.| \"|C|iao|\"| is| definitely| the| standard| for| informal| use|.| \n",
      "\n",
      "|I| should| also| check| if| the| user| might| be| looking| for| a| specific| tone| or| context|.| Since| they| just| said| \"|Hi|!\"| without| any| additional| context|,| \"|C|iao|\"| is| the| safest| and| most| natural| translation|.| \n",
      "\n",
      "|No| need| to| over|comp|licate| it|.| The| answer| should| be| straightforward|.| Let| me| confirm| by| thinking| of| common| usage|.| Yes|,| \"|C|iao|\"| is| used| in| everyday| conversations|.| So| the| translation| is| correct|.\n",
      "|</think>|\n",
      "\n",
      "|C|iao|!||"
     ]
    }
   ],
   "source": [
    "for token in model.stream(messages):\n",
    "    print(token.content, end=\"|\")"
   ]
  },
  {
   "cell_type": "markdown",
   "id": "a6f47d0a-798b-4326-90c0-3a61f0cb1b6e",
   "metadata": {},
   "source": [
    "## Prompt Templates"
   ]
  },
  {
   "cell_type": "code",
   "execution_count": 8,
   "id": "1d68fe7d-0d38-4161-beec-4937f6838ad3",
   "metadata": {},
   "outputs": [],
   "source": [
    "from langchain_core.prompts import ChatPromptTemplate\n",
    "\n",
    "system_template = \"Translate the following from English into {language}\"\n",
    "\n",
    "prompt_template = ChatPromptTemplate.from_messages(\n",
    "    [(\"system\", system_template), (\"user\", \"{text}\")]\n",
    ")"
   ]
  },
  {
   "cell_type": "code",
   "execution_count": 9,
   "id": "6b9d20a0-162d-43ed-9b2b-8d57a01e6afe",
   "metadata": {},
   "outputs": [
    {
     "data": {
      "text/plain": [
       "ChatPromptValue(messages=[SystemMessage(content='Translate the following from English into french', additional_kwargs={}, response_metadata={}), HumanMessage(content='Hi!', additional_kwargs={}, response_metadata={})])"
      ]
     },
     "execution_count": 9,
     "metadata": {},
     "output_type": "execute_result"
    }
   ],
   "source": [
    "prompt = prompt_template.invoke({\"language\": \"french\", \"text\": \"Hi!\"})\n",
    "\n",
    "prompt"
   ]
  },
  {
   "cell_type": "code",
   "execution_count": 10,
   "id": "3a795a2c-3e20-4d57-ac5a-4574b757017e",
   "metadata": {},
   "outputs": [
    {
     "name": "stdout",
     "output_type": "stream",
     "text": [
      "<think>\n",
      "Okay, the user wants to translate \"Hi!\" from English to French. Let me think about the appropriate greeting in French.\n",
      "\n",
      "\"Hi\" can be translated as \"Salut\" in informal contexts. But sometimes people might use \"Bonjour\" which is more formal. However, since the user just said \"Hi!\" without any context, it's safer to go with the common informal greeting. \n",
      "\n",
      "Wait, but maybe they want the most common translation. Let me check. \"Salut\" is definitely the standard informal greeting. \"Bonjour\" is more like \"Hello\" in English, but it's also used in some contexts. However, \"Salut\" is more direct and matches \"Hi!\" better. \n",
      "\n",
      "I should make sure there's no other possible translation. For example, \"Coucou\" is a cute way to say \"Hi\" but it's more playful. Since the user didn't specify the tone, \"Salut\" is the best choice. \n",
      "\n",
      "So the translation should be \"Salut!\" with an exclamation mark to match the original. That's it.\n",
      "</think>\n",
      "\n",
      "Salut !\n"
     ]
    }
   ],
   "source": [
    "response = model.invoke(prompt)\n",
    "\n",
    "print(response.content)"
   ]
  },
  {
   "cell_type": "code",
   "execution_count": null,
   "id": "6c465a4d-dff9-4b5c-8b25-944d42570892",
   "metadata": {},
   "outputs": [],
   "source": []
  }
 ],
 "metadata": {
  "kernelspec": {
   "display_name": "Python (Ollama)",
   "language": "python",
   "name": "ollama"
  },
  "language_info": {
   "codemirror_mode": {
    "name": "ipython",
    "version": 3
   },
   "file_extension": ".py",
   "mimetype": "text/x-python",
   "name": "python",
   "nbconvert_exporter": "python",
   "pygments_lexer": "ipython3",
   "version": "3.12.3"
  }
 },
 "nbformat": 4,
 "nbformat_minor": 5
}
