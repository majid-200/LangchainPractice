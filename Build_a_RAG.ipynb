{
 "cells": [
  {
   "cell_type": "markdown",
   "id": "db66dd7e-d011-4acb-b05b-54cebdcc598f",
   "metadata": {},
   "source": [
    "# Part 1"
   ]
  },
  {
   "cell_type": "markdown",
   "id": "0d3b1ff6-7b6b-432b-ad44-4e97361f06fa",
   "metadata": {},
   "source": [
    "## Components"
   ]
  },
  {
   "cell_type": "code",
   "execution_count": 1,
   "id": "41b7990f-c2e1-4967-bd77-b3ac06f15c9d",
   "metadata": {},
   "outputs": [],
   "source": [
    "from langchain_ollama import ChatOllama\n",
    "\n",
    "model = ChatOllama(\n",
    "    model = \"qwen3\",\n",
    "    temperture = 0\n",
    ")"
   ]
  },
  {
   "cell_type": "code",
   "execution_count": 2,
   "id": "06b3865b-7e61-4622-97eb-215a4661207f",
   "metadata": {},
   "outputs": [],
   "source": [
    "from langchain_ollama import OllamaEmbeddings\n",
    "\n",
    "embeddings = OllamaEmbeddings(model = \"nomic-embed-text\")"
   ]
  },
  {
   "cell_type": "code",
   "execution_count": 3,
   "id": "59615c66-f0ea-4548-a822-70326beb6b3f",
   "metadata": {},
   "outputs": [],
   "source": [
    "from langchain_core.vectorstores import InMemoryVectorStore\n",
    "\n",
    "vector_store = InMemoryVectorStore(embeddings)"
   ]
  },
  {
   "cell_type": "markdown",
   "id": "6042724d-a7df-406c-a25b-aa6ea06db458",
   "metadata": {},
   "source": [
    "## Indexing"
   ]
  },
  {
   "cell_type": "markdown",
   "id": "b07dd2de-7340-402e-afde-2ee9bcc9a3be",
   "metadata": {},
   "source": [
    "#### Loading Documents"
   ]
  },
  {
   "cell_type": "code",
   "execution_count": 6,
   "id": "b14347b5-f734-44a8-b770-70e5c879414b",
   "metadata": {},
   "outputs": [
    {
     "name": "stdout",
     "output_type": "stream",
     "text": [
      "Total characters: 43047\n"
     ]
    }
   ],
   "source": [
    "import bs4\n",
    "from langchain_community.document_loaders import WebBaseLoader\n",
    "\n",
    "# Only keep post title, headers, and content from the full HTML.\n",
    "bs4_strainer = bs4.SoupStrainer(class_=(\"post-title\", \"post-header\", \"post-content\"))\n",
    "loader = WebBaseLoader(\n",
    "    web_paths=(\"https://lilianweng.github.io/posts/2023-06-23-agent/\",),\n",
    "    bs_kwargs={\"parse_only\": bs4_strainer},\n",
    ")\n",
    "docs = loader.load()\n",
    "\n",
    "assert len(docs) == 1\n",
    "print(f\"Total characters: {len(docs[0].page_content)}\")"
   ]
  },
  {
   "cell_type": "code",
   "execution_count": 7,
   "id": "e8f9010c-f715-4606-b053-2c9e312d8e62",
   "metadata": {},
   "outputs": [
    {
     "name": "stdout",
     "output_type": "stream",
     "text": [
      "\n",
      "\n",
      "      LLM Powered Autonomous Agents\n",
      "    \n",
      "Date: June 23, 2023  |  Estimated Reading Time: 31 min  |  Author: Lilian Weng\n",
      "\n",
      "\n",
      "Building agents with LLM (large language model) as its core controller is a cool concept. Several proof-of-concepts demos, such as AutoGPT, GPT-Engineer and BabyAGI, serve as inspiring examples. The potentiality of LLM extends beyond generating well-written copies, stories, essays and programs; it can be framed as a powerful general problem solver.\n",
      "Agent System Overview#\n",
      "In\n"
     ]
    }
   ],
   "source": [
    "print(docs[0].page_content[:500])"
   ]
  },
  {
   "cell_type": "markdown",
   "id": "27024d25-233d-4c9d-bcc2-9276e37052f1",
   "metadata": {},
   "source": [
    "#### Splitting Documnets"
   ]
  },
  {
   "cell_type": "code",
   "execution_count": 10,
   "id": "bca4a7de-f7c0-4d47-be88-9e1cf1435e2e",
   "metadata": {},
   "outputs": [
    {
     "name": "stdout",
     "output_type": "stream",
     "text": [
      "Split blog post into 63 sub-documents.\n"
     ]
    }
   ],
   "source": [
    "from langchain_text_splitters import RecursiveCharacterTextSplitter\n",
    "\n",
    "text_splitter = RecursiveCharacterTextSplitter(\n",
    "    chunk_size=1000,  # chunk size (characters)\n",
    "    chunk_overlap=200,  # chunk overlap (characters)\n",
    "    add_start_index=True,  # track index in original document\n",
    ")\n",
    "all_splits = text_splitter.split_documents(docs)\n",
    "\n",
    "print(f\"Split blog post into {len(all_splits)} sub-documents.\")"
   ]
  },
  {
   "cell_type": "markdown",
   "id": "27b64652-96c7-4177-8028-e0b7128f17a0",
   "metadata": {},
   "source": [
    "#### Storing Documents"
   ]
  },
  {
   "cell_type": "code",
   "execution_count": 11,
   "id": "e7713cc9-46ef-4685-aeb1-63b059841e11",
   "metadata": {},
   "outputs": [
    {
     "name": "stdout",
     "output_type": "stream",
     "text": [
      "['4a60532e-c5f9-4d54-bb70-f5cc350a2a3a', '33c9ecfd-40d6-4868-b77a-d5be3d2b63db', 'c170a67d-6939-4372-b192-f6c63921353c']\n"
     ]
    }
   ],
   "source": [
    "document_ids = vector_store.add_documents(documents=all_splits)\n",
    "\n",
    "print(document_ids[:3])"
   ]
  },
  {
   "cell_type": "markdown",
   "id": "511bdbd7-60e5-4286-9293-53bdce1f790e",
   "metadata": {},
   "source": [
    "## Retrieval and Generation"
   ]
  },
  {
   "cell_type": "code",
   "execution_count": 14,
   "id": "086f73a6-4bde-481d-b0f6-c5d102416bfe",
   "metadata": {},
   "outputs": [
    {
     "name": "stderr",
     "output_type": "stream",
     "text": [
      "C:\\Users\\ASUS\\miniconda3\\envs\\Ollama\\Lib\\site-packages\\langsmith\\client.py:272: LangSmithMissingAPIKeyWarning: API key must be provided when using hosted LangSmith API\n",
      "  warnings.warn(\n"
     ]
    },
    {
     "name": "stdout",
     "output_type": "stream",
     "text": [
      "You are an assistant for question-answering tasks. Use the following pieces of retrieved context to answer the question. If you don't know the answer, just say that you don't know. Use three sentences maximum and keep the answer concise.\n",
      "Question: (question goes here) \n",
      "Context: (context goes here) \n",
      "Answer:\n"
     ]
    }
   ],
   "source": [
    "from langchain import hub\n",
    "\n",
    "prompt = hub.pull(\"rlm/rag-prompt\")\n",
    "\n",
    "example_messages = prompt.invoke(\n",
    "    {\"context\": \"(context goes here)\", \"question\": \"(question goes here)\"}\n",
    ").to_messages()\n",
    "\n",
    "assert len(example_messages) == 1\n",
    "print(example_messages[0].content)"
   ]
  },
  {
   "cell_type": "code",
   "execution_count": 15,
   "id": "caa35d33-e248-46ff-a2d9-44ee86427ae8",
   "metadata": {},
   "outputs": [],
   "source": [
    "from langchain_core.documents import Document\n",
    "from typing_extensions import List, TypedDict\n",
    "\n",
    "\n",
    "class State(TypedDict):\n",
    "    question: str\n",
    "    context: List[Document]\n",
    "    answer: str"
   ]
  },
  {
   "cell_type": "code",
   "execution_count": 16,
   "id": "564c8d49-b0d4-449c-a422-7ca15a0c7100",
   "metadata": {},
   "outputs": [],
   "source": [
    "def retrieve(state: State):\n",
    "    retrieved_docs = vector_store.similarity_search(state[\"question\"])\n",
    "    return {\"context\": retrieved_docs}\n",
    "\n",
    "\n",
    "def generate(state: State):\n",
    "    docs_content = \"\\n\\n\".join(doc.page_content for doc in state[\"context\"])\n",
    "    messages = prompt.invoke({\"question\": state[\"question\"], \"context\": docs_content})\n",
    "    response = model.invoke(messages)\n",
    "    return {\"answer\": response.content}"
   ]
  },
  {
   "cell_type": "code",
   "execution_count": 17,
   "id": "78154d40-6c4f-4cef-8649-d4f5e21a9487",
   "metadata": {},
   "outputs": [],
   "source": [
    "from langgraph.graph import START, StateGraph\n",
    "\n",
    "graph_builder = StateGraph(State).add_sequence([retrieve, generate])\n",
    "graph_builder.add_edge(START, \"retrieve\")\n",
    "graph = graph_builder.compile()"
   ]
  },
  {
   "cell_type": "code",
   "execution_count": 18,
   "id": "65c27a20-a7d0-42d6-84f6-71a0caabc822",
   "metadata": {},
   "outputs": [
    {
     "data": {
      "image/png": "[encoded data removed]",
      "text/plain": [
       "<IPython.core.display.Image object>"
      ]
     },
     "metadata": {},
     "output_type": "display_data"
    }
   ],
   "source": [
    "from IPython.display import Image, display\n",
    "\n",
    "display(Image(graph.get_graph().draw_mermaid_png()))"
   ]
  },
  {
   "cell_type": "code",
   "execution_count": 20,
   "id": "b725473e-7154-4deb-b3ee-d4b842faaed5",
   "metadata": {},
   "outputs": [
    {
     "name": "stdout",
     "output_type": "stream",
     "text": [
      "Context: [Document(id='c170a67d-6939-4372-b192-f6c63921353c', metadata={'source': 'https://lilianweng.github.io/posts/2023-06-23-agent/', 'start_index': 1638}, page_content='Component One: Planning#\\nA complicated task usually involves many steps. An agent needs to know what they are and plan ahead.\\nTask Decomposition#\\nChain of thought (CoT; Wei et al. 2022) has become a standard prompting technique for enhancing model performance on complex tasks. The model is instructed to “think step by step” to utilize more test-time computation to decompose hard tasks into smaller and simpler steps. CoT transforms big tasks into multiple manageable tasks and shed lights into an interpretation of the model’s thinking process.\\nTree of Thoughts (Yao et al. 2023) extends CoT by exploring multiple reasoning possibilities at each step. It first decomposes the problem into multiple thought steps and generates multiple thoughts per step, creating a tree structure. The search process can be BFS (breadth-first search) or DFS (depth-first search) with each state evaluated by a classifier (via a prompt) or majority vote.'), Document(id='31073688-e022-464a-bc5d-cb8e364c0aed', metadata={'source': 'https://lilianweng.github.io/posts/2023-06-23-agent/'}, page_content='Component One: Planning#\\nA complicated task usually involves many steps. An agent needs to know what they are and plan ahead.\\nTask Decomposition#\\nChain of thought (CoT; Wei et al. 2022) has become a standard prompting technique for enhancing model performance on complex tasks. The model is instructed to “think step by step” to utilize more test-time computation to decompose hard tasks into smaller and simpler steps. CoT transforms big tasks into multiple manageable tasks and shed lights into an interpretation of the model’s thinking process.\\nTree of Thoughts (Yao et al. 2023) extends CoT by exploring multiple reasoning possibilities at each step. It first decomposes the problem into multiple thought steps and generates multiple thoughts per step, creating a tree structure. The search process can be BFS (breadth-first search) or DFS (depth-first search) with each state evaluated by a classifier (via a prompt) or majority vote.'), Document(id='5a2dc327-3aac-4fbb-9a25-52f4dba8ad3c', metadata={'source': 'https://lilianweng.github.io/posts/2023-06-23-agent/', 'start_index': 2578}, page_content='Task decomposition can be done (1) by LLM with simple prompting like \"Steps for XYZ.\\\\n1.\", \"What are the subgoals for achieving XYZ?\", (2) by using task-specific instructions; e.g. \"Write a story outline.\" for writing a novel, or (3) with human inputs.\\nAnother quite distinct approach, LLM+P (Liu et al. 2023), involves relying on an external classical planner to do long-horizon planning. This approach utilizes the Planning Domain Definition Language (PDDL) as an intermediate interface to describe the planning problem. In this process, LLM (1) translates the problem into “Problem PDDL”, then (2) requests a classical planner to generate a PDDL plan based on an existing “Domain PDDL”, and finally (3) translates the PDDL plan back into natural language. Essentially, the planning step is outsourced to an external tool, assuming the availability of domain-specific PDDL and a suitable planner which is common in certain robotic setups but not in many other domains.\\nSelf-Reflection#'), Document(id='77298460-a57c-403a-a87e-f498289c8146', metadata={'source': 'https://lilianweng.github.io/posts/2023-06-23-agent/'}, page_content='Task decomposition can be done (1) by LLM with simple prompting like \"Steps for XYZ.\\\\n1.\", \"What are the subgoals for achieving XYZ?\", (2) by using task-specific instructions; e.g. \"Write a story outline.\" for writing a novel, or (3) with human inputs.\\nAnother quite distinct approach, LLM+P (Liu et al. 2023), involves relying on an external classical planner to do long-horizon planning. This approach utilizes the Planning Domain Definition Language (PDDL) as an intermediate interface to describe the planning problem. In this process, LLM (1) translates the problem into “Problem PDDL”, then (2) requests a classical planner to generate a PDDL plan based on an existing “Domain PDDL”, and finally (3) translates the PDDL plan back into natural language. Essentially, the planning step is outsourced to an external tool, assuming the availability of domain-specific PDDL and a suitable planner which is common in certain robotic setups but not in many other domains.\\nSelf-Reflection#')]\n",
      "\n",
      "\n",
      "Answer: <think>\n",
      "Okay, the user is asking about Task Decomposition. Let me check the context provided.\n",
      "\n",
      "The context mentions Task Decomposition as a method to break down complex tasks into smaller steps. It talks about Chain of Thought (CoT) and Tree of Thoughts as techniques. Also, there are different approaches like using LLM prompts, task-specific instructions, human input, and the LLM+P method with PDDL. \n",
      "\n",
      "I need to define Task Decomposition concisely. The answer should mention breaking down tasks into manageable steps, mention CoT and Tree of Thoughts as methods, and note the various approaches like prompting, instructions, and external planners. But keep it to three sentences max. Let me make sure I don't include too much detail. Also, check if the user might need examples, but the answer should stay concise. Alright, that should cover it.\n",
      "</think>\n",
      "\n",
      "Task decomposition is the process of breaking down complex tasks into smaller, manageable steps. Techniques like Chain of Thought (CoT) and Tree of Thoughts guide models to systematically decompose problems into sequential or branching subtasks. It can be achieved through prompting, task-specific instructions, human input, or external planners like PDDL.\n"
     ]
    }
   ],
   "source": [
    "result = graph.invoke({\"question\": \"What is Task Decomposition?\"})\n",
    "\n",
    "print(f\"Context: {result['context']}\\n\\n\")\n",
    "print(f\"Answer: {result['answer']}\")"
   ]
  },
  {
   "cell_type": "code",
   "execution_count": 21,
   "id": "4cb22bb3-d44b-42e6-9495-91c55bcbd5e0",
   "metadata": {},
   "outputs": [
    {
     "name": "stdout",
     "output_type": "stream",
     "text": [
      "{'retrieve': {'context': [Document(id='c170a67d-6939-4372-b192-f6c63921353c', metadata={'source': 'https://lilianweng.github.io/posts/2023-06-23-agent/', 'start_index': 1638}, page_content='Component One: Planning#\\nA complicated task usually involves many steps. An agent needs to know what they are and plan ahead.\\nTask Decomposition#\\nChain of thought (CoT; Wei et al. 2022) has become a standard prompting technique for enhancing model performance on complex tasks. The model is instructed to “think step by step” to utilize more test-time computation to decompose hard tasks into smaller and simpler steps. CoT transforms big tasks into multiple manageable tasks and shed lights into an interpretation of the model’s thinking process.\\nTree of Thoughts (Yao et al. 2023) extends CoT by exploring multiple reasoning possibilities at each step. It first decomposes the problem into multiple thought steps and generates multiple thoughts per step, creating a tree structure. The search process can be BFS (breadth-first search) or DFS (depth-first search) with each state evaluated by a classifier (via a prompt) or majority vote.'), Document(id='31073688-e022-464a-bc5d-cb8e364c0aed', metadata={'source': 'https://lilianweng.github.io/posts/2023-06-23-agent/'}, page_content='Component One: Planning#\\nA complicated task usually involves many steps. An agent needs to know what they are and plan ahead.\\nTask Decomposition#\\nChain of thought (CoT; Wei et al. 2022) has become a standard prompting technique for enhancing model performance on complex tasks. The model is instructed to “think step by step” to utilize more test-time computation to decompose hard tasks into smaller and simpler steps. CoT transforms big tasks into multiple manageable tasks and shed lights into an interpretation of the model’s thinking process.\\nTree of Thoughts (Yao et al. 2023) extends CoT by exploring multiple reasoning possibilities at each step. It first decomposes the problem into multiple thought steps and generates multiple thoughts per step, creating a tree structure. The search process can be BFS (breadth-first search) or DFS (depth-first search) with each state evaluated by a classifier (via a prompt) or majority vote.'), Document(id='5a2dc327-3aac-4fbb-9a25-52f4dba8ad3c', metadata={'source': 'https://lilianweng.github.io/posts/2023-06-23-agent/', 'start_index': 2578}, page_content='Task decomposition can be done (1) by LLM with simple prompting like \"Steps for XYZ.\\\\n1.\", \"What are the subgoals for achieving XYZ?\", (2) by using task-specific instructions; e.g. \"Write a story outline.\" for writing a novel, or (3) with human inputs.\\nAnother quite distinct approach, LLM+P (Liu et al. 2023), involves relying on an external classical planner to do long-horizon planning. This approach utilizes the Planning Domain Definition Language (PDDL) as an intermediate interface to describe the planning problem. In this process, LLM (1) translates the problem into “Problem PDDL”, then (2) requests a classical planner to generate a PDDL plan based on an existing “Domain PDDL”, and finally (3) translates the PDDL plan back into natural language. Essentially, the planning step is outsourced to an external tool, assuming the availability of domain-specific PDDL and a suitable planner which is common in certain robotic setups but not in many other domains.\\nSelf-Reflection#'), Document(id='77298460-a57c-403a-a87e-f498289c8146', metadata={'source': 'https://lilianweng.github.io/posts/2023-06-23-agent/'}, page_content='Task decomposition can be done (1) by LLM with simple prompting like \"Steps for XYZ.\\\\n1.\", \"What are the subgoals for achieving XYZ?\", (2) by using task-specific instructions; e.g. \"Write a story outline.\" for writing a novel, or (3) with human inputs.\\nAnother quite distinct approach, LLM+P (Liu et al. 2023), involves relying on an external classical planner to do long-horizon planning. This approach utilizes the Planning Domain Definition Language (PDDL) as an intermediate interface to describe the planning problem. In this process, LLM (1) translates the problem into “Problem PDDL”, then (2) requests a classical planner to generate a PDDL plan based on an existing “Domain PDDL”, and finally (3) translates the PDDL plan back into natural language. Essentially, the planning step is outsourced to an external tool, assuming the availability of domain-specific PDDL and a suitable planner which is common in certain robotic setups but not in many other domains.\\nSelf-Reflection#')]}}\n",
      "\n",
      "----------------\n",
      "\n",
      "{'generate': {'answer': \"<think>\\nOkay, the user is asking about Task Decomposition. Let me check the context provided.\\n\\nThe context mentions Task Decomposition as part of methods like Chain of Thought (CoT) and Tree of Thoughts. It explains that CoT breaks down complex tasks into smaller steps, and Tree of Thoughts extends this by exploring multiple reasoning paths. Also, there are different approaches like using LLM prompts, task-specific instructions, human input, and the LLM+P method with PDDL.\\n\\nI need to define Task Decomposition concisely. The answer should mention breaking down tasks into manageable steps, mention CoT and Tree of Thoughts as techniques, and note the various methods like prompting or external planners. Keep it to three sentences max. Let me make sure it's concise and covers the key points without extra details.\\n</think>\\n\\nTask decomposition involves breaking down complex tasks into smaller, manageable steps. Techniques like Chain of Thought (CoT) and Tree of Thoughts guide this process by structuring reasoning paths or exploring multiple possibilities. Methods include simple prompting, task-specific instructions, human input, or external planners like PDDL.\"}}\n",
      "\n",
      "----------------\n",
      "\n"
     ]
    }
   ],
   "source": [
    "for step in graph.stream(\n",
    "    {\"question\": \"What is Task Decomposition?\"}, stream_mode=\"updates\"\n",
    "):\n",
    "    print(f\"{step}\\n\\n----------------\\n\")"
   ]
  },
  {
   "cell_type": "code",
   "execution_count": 22,
   "id": "b952393e-d454-45dc-a01c-ce159776a542",
   "metadata": {},
   "outputs": [
    {
     "name": "stdout",
     "output_type": "stream",
     "text": [
      "<think>|\n",
      "|Okay|,| the| user| is| asking| about| Task| Decom|position|.| Let| me| look| through| the| provided| context| to| find| the| answer|.\n",
      "\n",
      "|The| context| mentions| that| Task| Decom|position| is| a| method| to| break| down| complex| tasks| into| smaller|,| manageable| steps|.| It| references| Chain| of| Thought| (|Co|T|)| and| Tree| of| Thoughts| as| techniques| where| models| think| step| by| step| or| explore| multiple| reasoning| paths|.| Also|,| there| are| methods| like| using| L|LM| prompts|,| task|-specific| instructions|,| and| even| external| planners| like| L|LM|+|P|.| \n",
      "\n",
      "|I| need| to| summarize| this| in| three| sentences|.| First|,| define| Task| Decom|position|.| Then| mention| the| main| techniques| like| Co|T| and| Tree| of| Thoughts|.| Finally|,| note| other| approaches| like| prompting| and| external| planners|.| Make| sure| it|'s| concise| and| within| the| limit|.\n",
      "|</think>|\n",
      "\n",
      "|Task| decomposition| is| a| method| to| break| down| complex| tasks| into| smaller|,| manageable| steps|.| Techniques| like| Chain| of| Thought| (|Co|T|)| and| Tree| of| Thoughts| guide| models| to| reason| step|-by|-step| or| explore| multiple| reasoning| paths|.| It| can| also| involve| prompts|,| task|-specific| instructions|,| or| external| planners| like| L|LM|+|P| for| structured| planning|.||"
     ]
    }
   ],
   "source": [
    "for message, metadata in graph.stream(\n",
    "    {\"question\": \"What is Task Decomposition?\"}, stream_mode=\"messages\"\n",
    "):\n",
    "    print(message.content, end=\"|\")"
   ]
  },
  {
   "cell_type": "code",
   "execution_count": 23,
   "id": "34e78e25-a2eb-4112-90c3-9668711c2f36",
   "metadata": {},
   "outputs": [],
   "source": [
    "# result = await graph.ainvoke(...)\n",
    "\n",
    "# async for step in graph.astream(...):"
   ]
  },
  {
   "cell_type": "code",
   "execution_count": 24,
   "id": "4b209c2b-ea63-451c-8f88-629ea0265183",
   "metadata": {},
   "outputs": [],
   "source": [
    "from langchain_core.prompts import PromptTemplate\n",
    "\n",
    "template = \"\"\"Use the following pieces of context to answer the question at the end.\n",
    "If you don't know the answer, just say that you don't know, don't try to make up an answer.\n",
    "Use three sentences maximum and keep the answer as concise as possible.\n",
    "Always say \"thanks for asking!\" at the end of the answer.\n",
    "\n",
    "{context}\n",
    "\n",
    "Question: {question}\n",
    "\n",
    "Helpful Answer:\"\"\"\n",
    "custom_rag_prompt = PromptTemplate.from_template(template)"
   ]
  },
  {
   "cell_type": "markdown",
   "id": "d5950f67-c251-49c4-a409-09a0694b19b2",
   "metadata": {},
   "source": [
    "## Query Analysis"
   ]
  },
  {
   "cell_type": "code",
   "execution_count": 25,
   "id": "47a7c454-3aa2-47a1-a29d-cc3cf0a29df1",
   "metadata": {},
   "outputs": [
    {
     "data": {
      "text/plain": [
       "{'source': 'https://lilianweng.github.io/posts/2023-06-23-agent/',\n",
       " 'start_index': 8,\n",
       " 'section': 'beginning'}"
      ]
     },
     "execution_count": 25,
     "metadata": {},
     "output_type": "execute_result"
    }
   ],
   "source": [
    "total_documents = len(all_splits)\n",
    "third = total_documents // 3\n",
    "\n",
    "for i, document in enumerate(all_splits):\n",
    "    if i < third:\n",
    "        document.metadata[\"section\"] = \"beginning\"\n",
    "    elif i < 2 * third:\n",
    "        document.metadata[\"section\"] = \"middle\"\n",
    "    else:\n",
    "        document.metadata[\"section\"] = \"end\"\n",
    "\n",
    "\n",
    "all_splits[0].metadata"
   ]
  },
  {
   "cell_type": "code",
   "execution_count": 26,
   "id": "3653e5ec-a515-423c-85b9-60d51f8c152d",
   "metadata": {},
   "outputs": [],
   "source": [
    "from langchain_core.vectorstores import InMemoryVectorStore\n",
    "\n",
    "vector_store = InMemoryVectorStore(embeddings)\n",
    "_ = vector_store.add_documents(all_splits)"
   ]
  },
  {
   "cell_type": "code",
   "execution_count": 27,
   "id": "e3f75aca-c8b8-4d8e-80a3-e02652f146d2",
   "metadata": {},
   "outputs": [],
   "source": [
    "from typing import Literal\n",
    "\n",
    "from typing_extensions import Annotated\n",
    "\n",
    "\n",
    "class Search(TypedDict):\n",
    "    \"\"\"Search query.\"\"\"\n",
    "\n",
    "    query: Annotated[str, ..., \"Search query to run.\"]\n",
    "    section: Annotated[\n",
    "        Literal[\"beginning\", \"middle\", \"end\"],\n",
    "        ...,\n",
    "        \"Section to query.\",\n",
    "    ]"
   ]
  },
  {
   "cell_type": "code",
   "execution_count": 31,
   "id": "f161bdc9-1f6c-47c6-a458-8f27ec3deed7",
   "metadata": {},
   "outputs": [],
   "source": [
    "class State(TypedDict):\n",
    "    question: str\n",
    "    query: Search ########################################################################\n",
    "    context: List[Document]\n",
    "    answer: str\n",
    "\n",
    "\n",
    "def analyze_query(state: State): #########################################################\n",
    "    structured_llm = model.with_structured_output(Search) ################################\n",
    "    query = structured_llm.invoke(state[\"question\"]) #####################################\n",
    "    return {\"query\": query} ##############################################################\n",
    "\n",
    "\n",
    "def retrieve(state: State):\n",
    "    query = state[\"query\"] ###############################################################\n",
    "    retrieved_docs = vector_store.similarity_search( #####################################\n",
    "        query[\"query\"], ##################################################################\n",
    "        filter=lambda doc: doc.metadata.get(\"section\") == query[\"section\"], ##############\n",
    "    ) ####################################################################################\n",
    "    return {\"context\": retrieved_docs}\n",
    "\n",
    "\n",
    "def generate(state: State):\n",
    "    docs_content = \"\\n\\n\".join(doc.page_content for doc in state[\"context\"])\n",
    "    messages = prompt.invoke({\"question\": state[\"question\"], \"context\": docs_content})\n",
    "    response = model.invoke(messages)\n",
    "    return {\"answer\": response.content}\n",
    "\n",
    "\n",
    "graph_builder = StateGraph(State).add_sequence([analyze_query, retrieve, generate]) ######\n",
    "graph_builder.add_edge(START, \"analyze_query\") ###########################################\n",
    "graph = graph_builder.compile()"
   ]
  },
  {
   "cell_type": "code",
   "execution_count": 32,
   "id": "0d0bde66-6410-4112-ae0c-3787cfe3c3c6",
   "metadata": {},
   "outputs": [
    {
     "data": {
      "image/png": "[encoded data removed]",
      "text/plain": [
       "<IPython.core.display.Image object>"
      ]
     },
     "metadata": {},
     "output_type": "display_data"
    }
   ],
   "source": [
    "display(Image(graph.get_graph().draw_mermaid_png()))"
   ]
  },
  {
   "cell_type": "code",
   "execution_count": 33,
   "id": "05a30f06-5025-47fe-abc5-f562ae3e2d63",
   "metadata": {},
   "outputs": [
    {
     "name": "stdout",
     "output_type": "stream",
     "text": [
      "{'analyze_query': {'query': {'query': 'What does the end of the post say about Task Decomposition?', 'section': 'end'}}}\n",
      "\n",
      "----------------\n",
      "\n",
      "{'retrieve': {'context': [Document(id='179fffc6-c818-48fb-8c8f-1a0e7963fd5b', metadata={'source': 'https://lilianweng.github.io/posts/2023-06-23-agent/', 'start_index': 32858, 'section': 'end'}, page_content='}\\n]\\nThen after these clarification, the agent moved into the code writing mode with a different system message.\\nSystem message:'), Document(id='ef26690a-a078-434a-b1ef-da098aca2653', metadata={'source': 'https://lilianweng.github.io/posts/2023-06-23-agent/', 'start_index': 30868, 'section': 'end'}, page_content='Here are a sample conversation for task clarification sent to OpenAI ChatCompletion endpoint used by GPT-Engineer. The user inputs are wrapped in {{user input text}}.\\n[\\n  {\\n    \"role\": \"system\",\\n    \"content\": \"You will read instructions and not carry them out, only seek to clarify them.\\\\nSpecifically you will first summarise a list of super short bullets of areas that need clarification.\\\\nThen you will pick one clarifying question, and wait for an answer from the user.\\\\n\"\\n  },\\n  {\\n    \"role\": \"user\",\\n    \"content\": \"We are writing {{a Super Mario game in python. MVC components split in separate files. Keyboard control.}}\\\\n\"\\n  },\\n  {\\n    \"role\": \"assistant\",'), Document(id='a4714a67-a45a-4755-a765-b00764c7717c', metadata={'source': 'https://lilianweng.github.io/posts/2023-06-23-agent/', 'start_index': 31348, 'section': 'end'}, page_content='},\\n  {\\n    \"role\": \"user\",\\n    \"content\": \"We are writing {{a Super Mario game in python. MVC components split in separate files. Keyboard control.}}\\\\n\"\\n  },\\n  {\\n    \"role\": \"assistant\",\\n    \"content\": \"Summary of areas that need clarification:\\\\n1. Specifics of the Super Mario game (e.g. level design, characters, gameplay mechanics)\\\\n2. Details about the MVC components (e.g. which components are in each file)\\\\n3. Keyboard control implementation (e.g. which keys to use, how to handle input)\\\\n\\\\nClarifying question:\\\\nCan you provide more details about the Super Mario game, such as level design, characters, and gameplay mechanics?\"\\n  },\\n  {\\n    \"role\": \"user\",'), Document(id='16f5f436-24e0-44bb-93a5-c316126d4134', metadata={'source': 'https://lilianweng.github.io/posts/2023-06-23-agent/', 'start_index': 40518, 'section': 'end'}, page_content='Or\\n@article{weng2023agent,\\n  title   = \"LLM-powered Autonomous Agents\",\\n  author  = \"Weng, Lilian\",\\n  journal = \"lilianweng.github.io\",\\n  year    = \"2023\",\\n  month   = \"Jun\",\\n  url     = \"https://lilianweng.github.io/posts/2023-06-23-agent/\"\\n}\\nReferences#\\n[1] Wei et al. “Chain of thought prompting elicits reasoning in large language models.” NeurIPS 2022\\n[2] Yao et al. “Tree of Thoughts: Dliberate Problem Solving with Large Language Models.” arXiv preprint arXiv:2305.10601 (2023).\\n[3] Liu et al. “Chain of Hindsight Aligns Language Models with Feedback\\n“ arXiv preprint arXiv:2302.02676 (2023).\\n[4] Liu et al. “LLM+P: Empowering Large Language Models with Optimal Planning Proficiency” arXiv preprint arXiv:2304.11477 (2023).\\n[5] Yao et al. “ReAct: Synergizing reasoning and acting in language models.” ICLR 2023.\\n[6] Google Blog. “Announcing ScaNN: Efficient Vector Similarity Search” July 28, 2020.\\n[7] https://chat.openai.com/share/46ff149e-a4c7-4dd7-a800-fc4a642ea389')]}}\n",
      "\n",
      "----------------\n",
      "\n",
      "{'generate': {'answer': \"<think>\\nOkay, let's see. The user is asking what the end of the post says about Task Decomposition. The context provided includes a conversation between a user and an assistant about clarifying tasks for a Super Mario game project using GPT-Engineer. There's also a system message that outlines the process of summarizing areas needing clarification and asking a specific question.\\n\\nFirst, I need to focus on the part about Task Decomposition. The system message mentions breaking down the task into specific areas for clarification, like game specifics, MVC components, and keyboard control. The assistant's role is to summarize these areas into bullets and ask a clarifying question. \\n\\nThe user's question is about the end of the post, so I should check if there's a conclusion or summary regarding Task Decomposition. However, the context ends with the assistant's clarifying question and the user's input, but no explicit conclusion about Task Decomposition. The references at the end are about different papers, but they don't mention Task Decomposition. \\n\\nSince there's no direct statement about Task Decomposition in the provided context, the answer should indicate that the information isn't present. The assistant should state that they don't know based on the given context.\\n</think>\\n\\nThe end of the post does not explicitly mention Task Decomposition. The context focuses on clarifying project requirements for a Super Mario game, detailing areas like MVC components and keyboard controls, but no specific discussion on Task Decomposition is provided. References to external papers do not address this topic.\"}}\n",
      "\n",
      "----------------\n",
      "\n"
     ]
    }
   ],
   "source": [
    "for step in graph.stream(\n",
    "    {\"question\": \"What does the end of the post say about Task Decomposition?\"},\n",
    "    stream_mode=\"updates\",\n",
    "):\n",
    "    print(f\"{step}\\n\\n----------------\\n\")"
   ]
  },
  {
   "cell_type": "markdown",
   "id": "628ac734-e746-47f9-98b2-5a838b095847",
   "metadata": {},
   "source": [
    "# Part 2"
   ]
  },
  {
   "cell_type": "code",
   "execution_count": 14,
   "id": "24521a4f-2b9c-43cf-887b-41480dd1abcb",
   "metadata": {},
   "outputs": [],
   "source": [
    "from langchain_ollama import ChatOllama\n",
    "\n",
    "llm = ChatOllama(\n",
    "    model = \"qwen3\",\n",
    "    temperture = 0\n",
    ")"
   ]
  },
  {
   "cell_type": "code",
   "execution_count": 15,
   "id": "56915883-c144-4153-b84f-f35a8d43e51b",
   "metadata": {},
   "outputs": [],
   "source": [
    "from langchain_ollama import OllamaEmbeddings\n",
    "\n",
    "embeddings = OllamaEmbeddings(model = \"nomic-embed-text\")"
   ]
  },
  {
   "cell_type": "code",
   "execution_count": 16,
   "id": "0376c83d-f736-417a-839d-624c98742ce4",
   "metadata": {},
   "outputs": [],
   "source": [
    "from langchain_core.vectorstores import InMemoryVectorStore\n",
    "\n",
    "vector_store = InMemoryVectorStore(embeddings)"
   ]
  },
  {
   "cell_type": "markdown",
   "id": "fe0a5d9c-ef06-4d0e-b6f1-4a19d4536121",
   "metadata": {},
   "source": [
    "## Chains"
   ]
  },
  {
   "cell_type": "code",
   "execution_count": 17,
   "id": "eb91f09c-65a1-48fb-acae-438753974c3b",
   "metadata": {},
   "outputs": [],
   "source": [
    "import bs4\n",
    "from langchain import hub\n",
    "from langchain_community.document_loaders import WebBaseLoader\n",
    "from langchain_core.documents import Document\n",
    "from langchain_text_splitters import RecursiveCharacterTextSplitter\n",
    "from typing_extensions import List, TypedDict\n",
    "\n",
    "# Load and chunk contents of the blog\n",
    "loader = WebBaseLoader(\n",
    "    web_paths=(\"https://lilianweng.github.io/posts/2023-06-23-agent/\",),\n",
    "    bs_kwargs=dict(\n",
    "        parse_only=bs4.SoupStrainer(\n",
    "            class_=(\"post-content\", \"post-title\", \"post-header\")\n",
    "        )\n",
    "    ),\n",
    ")\n",
    "docs = loader.load()\n",
    "\n",
    "text_splitter = RecursiveCharacterTextSplitter(chunk_size=1000, chunk_overlap=200)\n",
    "all_splits = text_splitter.split_documents(docs)"
   ]
  },
  {
   "cell_type": "code",
   "execution_count": 18,
   "id": "6f38056c-36e2-419b-affc-52bb1aa0eaaf",
   "metadata": {},
   "outputs": [],
   "source": [
    "# Index chunks\n",
    "_ = vector_store.add_documents(documents=all_splits)"
   ]
  },
  {
   "cell_type": "code",
   "execution_count": 19,
   "id": "63be4541-f5ef-443b-be80-2356a265b594",
   "metadata": {},
   "outputs": [],
   "source": [
    "from langgraph.graph import MessagesState, StateGraph\n",
    "\n",
    "graph_builder = StateGraph(MessagesState)"
   ]
  },
  {
   "cell_type": "code",
   "execution_count": 20,
   "id": "9b74035b-3719-4e13-92da-d26b30048e3d",
   "metadata": {},
   "outputs": [],
   "source": [
    "from langchain_core.tools import tool\n",
    "\n",
    "\n",
    "@tool(response_format=\"content_and_artifact\")\n",
    "def retrieve(query: str):\n",
    "    \"\"\"Retrieve information related to a query.\"\"\"\n",
    "    retrieved_docs = vector_store.similarity_search(query, k=2)\n",
    "    serialized = \"\\n\\n\".join(\n",
    "        (f\"Source: {doc.metadata}\\nContent: {doc.page_content}\")\n",
    "        for doc in retrieved_docs\n",
    "    )\n",
    "    return serialized, retrieved_docs"
   ]
  },
  {
   "cell_type": "code",
   "execution_count": 21,
   "id": "4f1a2f65-2fc9-48a0-b5bd-36b636bd616f",
   "metadata": {},
   "outputs": [],
   "source": [
    "from langchain_core.messages import SystemMessage\n",
    "from langgraph.prebuilt import ToolNode\n",
    "\n",
    "\n",
    "# Step 1: Generate an AIMessage that may include a tool-call to be sent.\n",
    "def query_or_respond(state: MessagesState):\n",
    "    \"\"\"Generate tool call for retrieval or respond.\"\"\"\n",
    "    llm_with_tools = llm.bind_tools([retrieve])\n",
    "    response = llm_with_tools.invoke(state[\"messages\"])\n",
    "    # MessagesState appends messages to state instead of overwriting\n",
    "    return {\"messages\": [response]}\n",
    "\n",
    "\n",
    "# Step 2: Execute the retrieval.\n",
    "tools = ToolNode([retrieve])\n",
    "\n",
    "\n",
    "# Step 3: Generate a response using the retrieved content.\n",
    "def generate(state: MessagesState):\n",
    "    \"\"\"Generate answer.\"\"\"\n",
    "    # Get generated ToolMessages\n",
    "    recent_tool_messages = []\n",
    "    for message in reversed(state[\"messages\"]):\n",
    "        if message.type == \"tool\":\n",
    "            recent_tool_messages.append(message)\n",
    "        else:\n",
    "            break\n",
    "    tool_messages = recent_tool_messages[::-1]\n",
    "\n",
    "    # Format into prompt\n",
    "    docs_content = \"\\n\\n\".join(doc.content for doc in tool_messages)\n",
    "    system_message_content = (\n",
    "        \"You are an assistant for question-answering tasks. \"\n",
    "        \"Use the following pieces of retrieved context to answer \"\n",
    "        \"the question. If you don't know the answer, say that you \"\n",
    "        \"don't know. Use three sentences maximum and keep the \"\n",
    "        \"answer concise.\"\n",
    "        \"\\n\\n\"\n",
    "        f\"{docs_content}\"\n",
    "    )\n",
    "    conversation_messages = [\n",
    "        message\n",
    "        for message in state[\"messages\"]\n",
    "        if message.type in (\"human\", \"system\")\n",
    "        or (message.type == \"ai\" and not message.tool_calls)\n",
    "    ]\n",
    "    prompt = [SystemMessage(system_message_content)] + conversation_messages\n",
    "\n",
    "    # Run\n",
    "    response = llm.invoke(prompt)\n",
    "    return {\"messages\": [response]}"
   ]
  },
  {
   "cell_type": "code",
   "execution_count": 22,
   "id": "024b6122-fbd3-4a26-a33f-e111d56d25c9",
   "metadata": {},
   "outputs": [],
   "source": [
    "from langgraph.graph import END\n",
    "from langgraph.prebuilt import ToolNode, tools_condition\n",
    "\n",
    "graph_builder.add_node(query_or_respond)\n",
    "graph_builder.add_node(tools)\n",
    "graph_builder.add_node(generate)\n",
    "\n",
    "graph_builder.set_entry_point(\"query_or_respond\")\n",
    "graph_builder.add_conditional_edges(\n",
    "    \"query_or_respond\",\n",
    "    tools_condition,\n",
    "    {END: END, \"tools\": \"tools\"},\n",
    ")\n",
    "graph_builder.add_edge(\"tools\", \"generate\")\n",
    "graph_builder.add_edge(\"generate\", END)\n",
    "\n",
    "graph = graph_builder.compile()"
   ]
  },
  {
   "cell_type": "code",
   "execution_count": 23,
   "id": "41a4e53b-804a-4ba4-a898-9e7430cb9a8a",
   "metadata": {},
   "outputs": [
    {
     "data": {
      "image/png": "[encoded data removed]",
      "text/plain": [
       "<IPython.core.display.Image object>"
      ]
     },
     "metadata": {},
     "output_type": "display_data"
    }
   ],
   "source": [
    "from IPython.display import Image, display\n",
    "\n",
    "display(Image(graph.get_graph().draw_mermaid_png()))"
   ]
  },
  {
   "cell_type": "code",
   "execution_count": 24,
   "id": "3cc395be-85f2-46a5-b7bd-ae26999d54c5",
   "metadata": {},
   "outputs": [
    {
     "name": "stdout",
     "output_type": "stream",
     "text": [
      "================================\u001b[1m Human Message \u001b[0m=================================\n",
      "\n",
      "Hello\n",
      "==================================\u001b[1m Ai Message \u001b[0m==================================\n",
      "\n",
      "<think>\n",
      "Okay, the user said \"Hello\". I need to respond appropriately. Since there's no specific query here, maybe they just want a greeting. The tools provided are for retrieving information, but a simple hello doesn't require any function calls. I should just reply with a friendly message. Let me check the tools again to make sure. The retrieve function is for queries, but this is a general greeting. So no tool call needed. I'll respond with a welcome message.\n",
      "</think>\n",
      "\n",
      "Hello! How can I assist you today?\n"
     ]
    }
   ],
   "source": [
    "input_message = \"Hello\"\n",
    "\n",
    "for step in graph.stream(\n",
    "    {\"messages\": [{\"role\": \"user\", \"content\": input_message}]},\n",
    "    stream_mode=\"values\",\n",
    "):\n",
    "    step[\"messages\"][-1].pretty_print()"
   ]
  },
  {
   "cell_type": "code",
   "execution_count": 25,
   "id": "e610e77e-8d45-4363-ac5b-dd84be6ca03b",
   "metadata": {},
   "outputs": [
    {
     "name": "stdout",
     "output_type": "stream",
     "text": [
      "================================\u001b[1m Human Message \u001b[0m=================================\n",
      "\n",
      "What is Task Decomposition?\n",
      "==================================\u001b[1m Ai Message \u001b[0m==================================\n",
      "\n",
      "<think>\n",
      "Okay, the user is asking, \"What is Task Decomposition?\" I need to figure out how to respond. Let me start by recalling what I know about task decomposition. It's a concept often used in project management, AI, and robotics. Breaking down a complex task into smaller, manageable sub-tasks. But I should make sure I get the details right.\n",
      "\n",
      "Wait, the user might be looking for a definition, maybe examples, or its applications. Since I'm supposed to use the provided tools, I should check if the 'retrieve' function can help get accurate information. The function requires a query parameter. The user's question is straightforward, so I can use the retrieve function with the query \"What is Task Decomposition?\" to get the necessary information. That way, the answer will be based on reliable data. Let me structure the tool call correctly.\n",
      "</think>\n",
      "Tool Calls:\n",
      "  retrieve (01044f82-8e7e-4eee-88d1-83175ee7d4a4)\n",
      " Call ID: 01044f82-8e7e-4eee-88d1-83175ee7d4a4\n",
      "  Args:\n",
      "    query: What is Task Decomposition?\n",
      "=================================\u001b[1m Tool Message \u001b[0m=================================\n",
      "Name: retrieve\n",
      "\n",
      "Source: {'source': 'https://lilianweng.github.io/posts/2023-06-23-agent/'}\n",
      "Content: Component One: Planning#\n",
      "A complicated task usually involves many steps. An agent needs to know what they are and plan ahead.\n",
      "Task Decomposition#\n",
      "Chain of thought (CoT; Wei et al. 2022) has become a standard prompting technique for enhancing model performance on complex tasks. The model is instructed to “think step by step” to utilize more test-time computation to decompose hard tasks into smaller and simpler steps. CoT transforms big tasks into multiple manageable tasks and shed lights into an interpretation of the model’s thinking process.\n",
      "Tree of Thoughts (Yao et al. 2023) extends CoT by exploring multiple reasoning possibilities at each step. It first decomposes the problem into multiple thought steps and generates multiple thoughts per step, creating a tree structure. The search process can be BFS (breadth-first search) or DFS (depth-first search) with each state evaluated by a classifier (via a prompt) or majority vote.\n",
      "\n",
      "Source: {'source': 'https://lilianweng.github.io/posts/2023-06-23-agent/'}\n",
      "Content: Task decomposition can be done (1) by LLM with simple prompting like \"Steps for XYZ.\\n1.\", \"What are the subgoals for achieving XYZ?\", (2) by using task-specific instructions; e.g. \"Write a story outline.\" for writing a novel, or (3) with human inputs.\n",
      "Another quite distinct approach, LLM+P (Liu et al. 2023), involves relying on an external classical planner to do long-horizon planning. This approach utilizes the Planning Domain Definition Language (PDDL) as an intermediate interface to describe the planning problem. In this process, LLM (1) translates the problem into “Problem PDDL”, then (2) requests a classical planner to generate a PDDL plan based on an existing “Domain PDDL”, and finally (3) translates the PDDL plan back into natural language. Essentially, the planning step is outsourced to an external tool, assuming the availability of domain-specific PDDL and a suitable planner which is common in certain robotic setups but not in many other domains.\n",
      "Self-Reflection#\n",
      "==================================\u001b[1m Ai Message \u001b[0m==================================\n",
      "\n",
      "<think>\n",
      "Okay, the user is asking about Task Decomposition. Let me check the provided sources.\n",
      "\n",
      "From the first source, it mentions that task decomposition is part of planning for agents, breaking down complex tasks into smaller steps. The Chain of Thought (CoT) and Tree of Thoughts methods are examples here. The second source explains that task decomposition can be done through prompting, task-specific instructions, or human input. It also mentions the LLM+P approach using PDDL. \n",
      "\n",
      "So, Task Decomposition is the process of breaking down a complex task into smaller, manageable steps. The sources mention methods like CoT, Tree of Thoughts, and using external planners. I need to keep the answer concise, three sentences max. Let me make sure to cover the main points without getting too detailed.\n",
      "</think>\n",
      "\n",
      "Task decomposition is the process of breaking down complex tasks into smaller, manageable steps. It can be achieved through prompting, task-specific instructions, or external planners like PDDL. Methods such as Chain of Thought (CoT) and Tree of Thoughts further enhance this by exploring reasoning paths systematically.\n"
     ]
    }
   ],
   "source": [
    "input_message = \"What is Task Decomposition?\"\n",
    "\n",
    "for step in graph.stream(\n",
    "    {\"messages\": [{\"role\": \"user\", \"content\": input_message}]},\n",
    "    stream_mode=\"values\",\n",
    "):\n",
    "    step[\"messages\"][-1].pretty_print()"
   ]
  },
  {
   "cell_type": "markdown",
   "id": "9208d32e-1f7e-4ebe-89ce-6de795f8011d",
   "metadata": {},
   "source": [
    "### Stateful management of chat history"
   ]
  },
  {
   "cell_type": "code",
   "execution_count": 26,
   "id": "293aed58-a7de-4ccd-92cf-73f072ae6548",
   "metadata": {},
   "outputs": [],
   "source": [
    "from langgraph.checkpoint.memory import MemorySaver\n",
    "\n",
    "memory = MemorySaver()\n",
    "graph = graph_builder.compile(checkpointer=memory)\n",
    "\n",
    "# Specify an ID for the thread\n",
    "config = {\"configurable\": {\"thread_id\": \"abc123\"}}"
   ]
  },
  {
   "cell_type": "code",
   "execution_count": 27,
   "id": "19d98be3-da93-4a4e-994d-0b6cd0a34b5b",
   "metadata": {},
   "outputs": [
    {
     "name": "stdout",
     "output_type": "stream",
     "text": [
      "================================\u001b[1m Human Message \u001b[0m=================================\n",
      "\n",
      "Hello I am Majid\n",
      "==================================\u001b[1m Ai Message \u001b[0m==================================\n",
      "\n",
      "<think>\n",
      "Okay, the user said, \"Hello I am Majid.\" Let me think about how to respond. First, I need to acknowledge their greeting. Since they introduced themselves as Majid, I should greet them back and maybe offer assistance. The tools provided include a retrieve function, but in this case, the user isn't asking for information. They're just introducing themselves. So, no need to call any functions here. Just a friendly response to welcome Majid and ask how I can help him today. Keep it simple and polite.\n",
      "</think>\n",
      "\n",
      "Hello, Majid! Welcome. How can I assist you today? 😊\n"
     ]
    }
   ],
   "source": [
    "input_message = \"Hello I am Majid\"\n",
    "\n",
    "for step in graph.stream(\n",
    "    {\"messages\": [{\"role\": \"user\", \"content\": input_message}]},\n",
    "    stream_mode=\"values\",\n",
    "    config=config,\n",
    "):\n",
    "    step[\"messages\"][-1].pretty_print()"
   ]
  },
  {
   "cell_type": "code",
   "execution_count": 28,
   "id": "a46c73fa-6467-469f-bc35-7fd0fb4fdc95",
   "metadata": {},
   "outputs": [
    {
     "name": "stdout",
     "output_type": "stream",
     "text": [
      "================================\u001b[1m Human Message \u001b[0m=================================\n",
      "\n",
      "What is Task Decomposition?\n",
      "==================================\u001b[1m Ai Message \u001b[0m==================================\n",
      "\n",
      "<think>\n",
      "Okay, the user asked, \"What is Task Decomposition?\" I need to provide a clear and accurate answer. Let me start by recalling what task decomposition means. From what I remember, it's a process of breaking down a complex task into smaller, more manageable subtasks. But I should make sure to get the details right.\n",
      "\n",
      "First, I should define task decomposition simply. Then, maybe explain why it's useful. People use it to make tasks less overwhelming, right? It's common in project management, software development, and even everyday problem-solving. \n",
      "\n",
      "Wait, should I mention specific methodologies or frameworks that use task decomposition? Like Agile or Waterfall? Or maybe examples would help. For instance, if someone is building a website, they might decompose the task into designing the layout, coding, testing, etc. That could make it more relatable.\n",
      "\n",
      "I should also consider if there are different types of task decomposition. For example, top-down versus bottom-up approaches. But maybe that's getting too detailed. The user might just want a basic explanation. Let me check if I need to use the retrieve function here. The user's query is straightforward, but to ensure the answer is comprehensive and accurate, perhaps I should call the retrieve function to get more detailed information or confirm the definition. \n",
      "\n",
      "Wait, the retrieve function is supposed to get information related to the query. So using it here would help fetch a precise definition and possibly examples. That way, the answer is both accurate and thorough. Alright, I'll proceed to call the retrieve function with the query \"What is Task Decomposition?\" to get the necessary information to provide a helpful response.\n",
      "</think>\n",
      "Tool Calls:\n",
      "  retrieve (a4e41918-c64c-4133-8045-9219f3ae125b)\n",
      " Call ID: a4e41918-c64c-4133-8045-9219f3ae125b\n",
      "  Args:\n",
      "    query: What is Task Decomposition?\n",
      "=================================\u001b[1m Tool Message \u001b[0m=================================\n",
      "Name: retrieve\n",
      "\n",
      "Source: {'source': 'https://lilianweng.github.io/posts/2023-06-23-agent/'}\n",
      "Content: Component One: Planning#\n",
      "A complicated task usually involves many steps. An agent needs to know what they are and plan ahead.\n",
      "Task Decomposition#\n",
      "Chain of thought (CoT; Wei et al. 2022) has become a standard prompting technique for enhancing model performance on complex tasks. The model is instructed to “think step by step” to utilize more test-time computation to decompose hard tasks into smaller and simpler steps. CoT transforms big tasks into multiple manageable tasks and shed lights into an interpretation of the model’s thinking process.\n",
      "Tree of Thoughts (Yao et al. 2023) extends CoT by exploring multiple reasoning possibilities at each step. It first decomposes the problem into multiple thought steps and generates multiple thoughts per step, creating a tree structure. The search process can be BFS (breadth-first search) or DFS (depth-first search) with each state evaluated by a classifier (via a prompt) or majority vote.\n",
      "\n",
      "Source: {'source': 'https://lilianweng.github.io/posts/2023-06-23-agent/'}\n",
      "Content: Task decomposition can be done (1) by LLM with simple prompting like \"Steps for XYZ.\\n1.\", \"What are the subgoals for achieving XYZ?\", (2) by using task-specific instructions; e.g. \"Write a story outline.\" for writing a novel, or (3) with human inputs.\n",
      "Another quite distinct approach, LLM+P (Liu et al. 2023), involves relying on an external classical planner to do long-horizon planning. This approach utilizes the Planning Domain Definition Language (PDDL) as an intermediate interface to describe the planning problem. In this process, LLM (1) translates the problem into “Problem PDDL”, then (2) requests a classical planner to generate a PDDL plan based on an existing “Domain PDDL”, and finally (3) translates the PDDL plan back into natural language. Essentially, the planning step is outsourced to an external tool, assuming the availability of domain-specific PDDL and a suitable planner which is common in certain robotic setups but not in many other domains.\n",
      "Self-Reflection#\n",
      "==================================\u001b[1m Ai Message \u001b[0m==================================\n",
      "\n",
      "<think>\n",
      "Okay, the user is asking about Task Decomposition. Let me check the provided sources.\n",
      "\n",
      "From the first source, it mentions that task decomposition is part of planning for agents, breaking down complex tasks into smaller steps. The Chain of Thought (CoT) and Tree of Thoughts methods are examples. The second source explains task decomposition can be done via simple prompting, task-specific instructions, or human input. Also, there's the LLM+P approach using PDDL.\n",
      "\n",
      "So, I need to define Task Decomposition as breaking down tasks into smaller steps. Mention the methods like CoT, Tree of Thoughts, and the LLM+P approach. Keep it concise, three sentences max. Make sure to reference the sources but don't include URLs. Avoid any markdown. Use clear and simple language.\n",
      "</think>\n",
      "\n",
      "Task decomposition involves breaking down complex tasks into smaller, manageable steps to facilitate planning and execution. Techniques like Chain of Thought (CoT) and Tree of Thoughts guide this process by generating step-by-step reasoning or exploring multiple pathways. It can also leverage external planners (e.g., PDDL) or human input for structured task breakdown.\n"
     ]
    }
   ],
   "source": [
    "input_message = \"What is Task Decomposition?\"\n",
    "\n",
    "for step in graph.stream(\n",
    "    {\"messages\": [{\"role\": \"user\", \"content\": input_message}]},\n",
    "    stream_mode=\"values\",\n",
    "    config=config,\n",
    "):\n",
    "    step[\"messages\"][-1].pretty_print()"
   ]
  },
  {
   "cell_type": "code",
   "execution_count": 29,
   "id": "de83bd5f-779b-44d7-a056-aab1355e1e76",
   "metadata": {},
   "outputs": [
    {
     "name": "stdout",
     "output_type": "stream",
     "text": [
      "================================\u001b[1m Human Message \u001b[0m=================================\n",
      "\n",
      "Can you look up some common ways of doing it?\n",
      "==================================\u001b[1m Ai Message \u001b[0m==================================\n",
      "\n",
      "<think>\n",
      "Okay, the user asked, \"Can you look up some common ways of doing it?\" referring to task decomposition. Let me start by recalling the previous conversation. The user was explained task decomposition, and the assistant provided info from a source about methods like Chain of Thought (CoT), Tree of Thoughts, and LLM+P with PDDL. Now the user wants to know common ways.\n",
      "\n",
      "First, I need to check if there's existing information in the history that can answer this. The previous tool call retrieved content mentioning three main approaches: simple prompting, task-specific instructions, human input, and LLM+P with PDDL. Also, CoT and Tree of Thoughts were highlighted as techniques. \n",
      "\n",
      "The user is asking for \"common ways,\" so I should list the most frequently used methods. The answer should include the methods mentioned before but present them in a clearer, more structured way. Let me make sure to mention each approach with examples, as the user might benefit from concrete instances. \n",
      "\n",
      "Wait, the previous response mentioned four approaches: simple prompting, task-specific instructions, human input, and LLM+P. But the sources also talked about CoT and Tree of Thoughts as techniques. Maybe the user wants to know the common methods, so it's better to categorize them. \n",
      "\n",
      "I should structure the answer by listing each common method, explain how it works, and provide examples. Also, note that CoT and Tree of Thoughts are prompting techniques, while LLM+P is a hybrid approach. Make sure to mention that these are standard methods used in task decomposition. \n",
      "\n",
      "I need to avoid repeating the same information and present it in a way that's easy to understand. The user might be looking for practical examples of how task decomposition is applied, so including specific examples like writing a story outline or using PDDL would help. \n",
      "\n",
      "Also, check if there's any additional information from the tool response that wasn't covered. The tool response mentioned self-reflection as part of the process, but the user's question is about ways of doing it, so maybe focus on the methods rather than the reflection part. \n",
      "\n",
      "Finally, ensure the answer is concise but covers all the key points. The user might be a student or someone new to task decomposition, so clarity is important. Summarize the common methods with clear explanations and examples.\n",
      "</think>\n",
      "Tool Calls:\n",
      "  retrieve (fa46baab-9271-4e5b-8e1a-aaf055daed3b)\n",
      " Call ID: fa46baab-9271-4e5b-8e1a-aaf055daed3b\n",
      "  Args:\n",
      "    query: Common methods of task decomposition\n",
      "=================================\u001b[1m Tool Message \u001b[0m=================================\n",
      "Name: retrieve\n",
      "\n",
      "Source: {'source': 'https://lilianweng.github.io/posts/2023-06-23-agent/'}\n",
      "Content: Component One: Planning#\n",
      "A complicated task usually involves many steps. An agent needs to know what they are and plan ahead.\n",
      "Task Decomposition#\n",
      "Chain of thought (CoT; Wei et al. 2022) has become a standard prompting technique for enhancing model performance on complex tasks. The model is instructed to “think step by step” to utilize more test-time computation to decompose hard tasks into smaller and simpler steps. CoT transforms big tasks into multiple manageable tasks and shed lights into an interpretation of the model’s thinking process.\n",
      "Tree of Thoughts (Yao et al. 2023) extends CoT by exploring multiple reasoning possibilities at each step. It first decomposes the problem into multiple thought steps and generates multiple thoughts per step, creating a tree structure. The search process can be BFS (breadth-first search) or DFS (depth-first search) with each state evaluated by a classifier (via a prompt) or majority vote.\n",
      "\n",
      "Source: {'source': 'https://lilianweng.github.io/posts/2023-06-23-agent/'}\n",
      "Content: Task decomposition can be done (1) by LLM with simple prompting like \"Steps for XYZ.\\n1.\", \"What are the subgoals for achieving XYZ?\", (2) by using task-specific instructions; e.g. \"Write a story outline.\" for writing a novel, or (3) with human inputs.\n",
      "Another quite distinct approach, LLM+P (Liu et al. 2023), involves relying on an external classical planner to do long-horizon planning. This approach utilizes the Planning Domain Definition Language (PDDL) as an intermediate interface to describe the planning problem. In this process, LLM (1) translates the problem into “Problem PDDL”, then (2) requests a classical planner to generate a PDDL plan based on an existing “Domain PDDL”, and finally (3) translates the PDDL plan back into natural language. Essentially, the planning step is outsourced to an external tool, assuming the availability of domain-specific PDDL and a suitable planner which is common in certain robotic setups but not in many other domains.\n",
      "Self-Reflection#\n",
      "==================================\u001b[1m Ai Message \u001b[0m==================================\n",
      "\n",
      "<think>\n",
      "Okay, the user is asking about common ways to perform task decomposition. Let me recall the previous conversation. The user, Majid, first asked what task decomposition is, and I explained it involves breaking down tasks into smaller steps, mentioning techniques like Chain of Thought (CoT) and Tree of Thoughts, as well as using external planners or human input.\n",
      "\n",
      "Now, he's asking for common ways to do it. The sources I have from the previous answers mention three main methods: (1) using LLM with simple prompts, (2) task-specific instructions, and (3) human inputs. Additionally, there's the LLM+P approach using PDDL and classical planners. I need to present these as common methods. Let me structure the answer to list these methods clearly, keeping it concise and within three sentences. Make sure to mention CoT, Tree of Thoughts, PDDL-based planning, and human input as the key approaches. Also, note that these methods can be used alone or in combination. That should cover the common ways without going into too much detail.\n",
      "</think>\n",
      "\n",
      "Common methods include using LLMs with prompts like \"Steps for XYZ\" or task-specific instructions (e.g., \"Write a story outline\"). The Chain of Thought (CoT) and Tree of Thoughts techniques guide step-by-step reasoning or explore multiple pathways. Additionally, PDDL-based planning (LLM+P) integrates external planners for structured decomposition, often used in robotics.\n"
     ]
    }
   ],
   "source": [
    "input_message = \"Can you look up some common ways of doing it?\"\n",
    "\n",
    "for step in graph.stream(\n",
    "    {\"messages\": [{\"role\": \"user\", \"content\": input_message}]},\n",
    "    stream_mode=\"values\",\n",
    "    config=config,\n",
    "):\n",
    "    step[\"messages\"][-1].pretty_print()"
   ]
  },
  {
   "cell_type": "markdown",
   "id": "20c42ae8-b057-4ce6-9163-144ec56a7151",
   "metadata": {},
   "source": [
    "## Agents"
   ]
  },
  {
   "cell_type": "code",
   "execution_count": 30,
   "id": "4d1e17a9-23c1-4759-b56a-54abfc320e35",
   "metadata": {},
   "outputs": [],
   "source": [
    "from langgraph.prebuilt import create_react_agent\n",
    "\n",
    "agent_executor = create_react_agent(llm, [retrieve], checkpointer=memory)"
   ]
  },
  {
   "cell_type": "code",
   "execution_count": 31,
   "id": "728cdd46-c613-47e7-a063-e622a0b39590",
   "metadata": {},
   "outputs": [
    {
     "data": {
      "image/png": "[encoded data removed]",
      "text/plain": [
       "<IPython.core.display.Image object>"
      ]
     },
     "metadata": {},
     "output_type": "display_data"
    }
   ],
   "source": [
    "display(Image(agent_executor.get_graph().draw_mermaid_png()))"
   ]
  },
  {
   "cell_type": "code",
   "execution_count": 32,
   "id": "af03a0e5-f4f3-43a5-ad9b-34374b40d514",
   "metadata": {},
   "outputs": [
    {
     "name": "stdout",
     "output_type": "stream",
     "text": [
      "================================\u001b[1m Human Message \u001b[0m=================================\n",
      "\n",
      "What is the standard method for Task Decomposition?\n",
      "\n",
      "Once you get the answer, look up common extensions of that method.\n",
      "==================================\u001b[1m Ai Message \u001b[0m==================================\n",
      "\n",
      "<think>\n",
      "Okay, the user is asking about the standard method for Task Decomposition. Let me start by recalling what task decomposition is. It's a process of breaking down a complex task into smaller, more manageable sub-tasks. The standard method might involve techniques like breaking down tasks into steps, using hierarchies, or maybe something like the WBS (Work Breakdown Structure) in project management.\n",
      "\n",
      "Wait, but I should verify this. Let me use the retrieve function to get accurate information. The first step is to find the standard method. So I'll call the retrieve function with the query \"standard method for Task Decomposition\". \n",
      "\n",
      "Once I get that information, the user wants to know the common extensions of that method. So after identifying the standard method, I'll need to look up its extensions. For example, if the standard method is WBS, extensions might include tools like Gantt charts, critical path method, or resource allocation techniques. But I need to make sure to get the correct extensions based on the standard method identified first. Let me proceed step by step.\n",
      "</think>\n",
      "Tool Calls:\n",
      "  retrieve (bd6b9f49-a7f1-4c63-966c-2acbd704093a)\n",
      " Call ID: bd6b9f49-a7f1-4c63-966c-2acbd704093a\n",
      "  Args:\n",
      "    query: standard method for Task Decomposition\n",
      "=================================\u001b[1m Tool Message \u001b[0m=================================\n",
      "Name: retrieve\n",
      "\n",
      "Source: {'source': 'https://lilianweng.github.io/posts/2023-06-23-agent/'}\n",
      "Content: Task decomposition can be done (1) by LLM with simple prompting like \"Steps for XYZ.\\n1.\", \"What are the subgoals for achieving XYZ?\", (2) by using task-specific instructions; e.g. \"Write a story outline.\" for writing a novel, or (3) with human inputs.\n",
      "Another quite distinct approach, LLM+P (Liu et al. 2023), involves relying on an external classical planner to do long-horizon planning. This approach utilizes the Planning Domain Definition Language (PDDL) as an intermediate interface to describe the planning problem. In this process, LLM (1) translates the problem into “Problem PDDL”, then (2) requests a classical planner to generate a PDDL plan based on an existing “Domain PDDL”, and finally (3) translates the PDDL plan back into natural language. Essentially, the planning step is outsourced to an external tool, assuming the availability of domain-specific PDDL and a suitable planner which is common in certain robotic setups but not in many other domains.\n",
      "Self-Reflection#\n",
      "\n",
      "Source: {'source': 'https://lilianweng.github.io/posts/2023-06-23-agent/'}\n",
      "Content: Component One: Planning#\n",
      "A complicated task usually involves many steps. An agent needs to know what they are and plan ahead.\n",
      "Task Decomposition#\n",
      "Chain of thought (CoT; Wei et al. 2022) has become a standard prompting technique for enhancing model performance on complex tasks. The model is instructed to “think step by step” to utilize more test-time computation to decompose hard tasks into smaller and simpler steps. CoT transforms big tasks into multiple manageable tasks and shed lights into an interpretation of the model’s thinking process.\n",
      "Tree of Thoughts (Yao et al. 2023) extends CoT by exploring multiple reasoning possibilities at each step. It first decomposes the problem into multiple thought steps and generates multiple thoughts per step, creating a tree structure. The search process can be BFS (breadth-first search) or DFS (depth-first search) with each state evaluated by a classifier (via a prompt) or majority vote.\n",
      "==================================\u001b[1m Ai Message \u001b[0m==================================\n",
      "\n",
      "<think>\n",
      "Okay, let's tackle the user's question. They asked for the standard method for Task Decomposition and then wanted to know the common extensions of that method.\n",
      "\n",
      "First, I need to figure out what the standard method is. From the provided sources, there's mention of Chain of Thought (CoT) as a standard prompting technique. The Lilian Weng post says CoT is a standard method where models are instructed to \"think step by step,\" breaking down complex tasks into smaller steps. That seems like the standard method.\n",
      "\n",
      "Now, the user wants common extensions of this method. Looking at the same source, Tree of Thoughts (ToT) is mentioned as an extension of CoT. ToT explores multiple reasoning possibilities at each step, creating a tree structure with BFS or DFS. Other extensions might include using external planners like the LLM+P approach mentioned earlier, which uses PDDL for planning. Also, self-reflection components might be part of extensions, where the agent reviews its own steps.\n",
      "\n",
      "Wait, the user's first answer mentioned CoT as the standard method. The extensions would then include ToT, external planners (like LLM+P), and maybe other techniques like hierarchical decomposition or integrating human feedback. I should check if the sources mention any other extensions beyond ToT and LLM+P. The sources do mention Self-Reflection as a component, which could be another extension. So compiling these, the extensions are ToT, external planners (PDDL-based), and self-reflection mechanisms.\n",
      "</think>\n",
      "\n",
      "The standard method for Task Decomposition is **Chain of Thought (CoT)**, where models are instructed to \"think step by step\" to break down complex tasks into smaller, manageable steps. This approach enhances performance by leveraging test-time computation for structured reasoning.\n",
      "\n",
      "### Common Extensions of CoT:\n",
      "1. **Tree of Thoughts (ToT)**:  \n",
      "   Extends CoT by exploring multiple reasoning paths at each step, creating a tree structure. It uses BFS/DFS search with classifiers or majority voting to evaluate states.\n",
      "\n",
      "2. **LLM+P (Planning via PDDL)**:  \n",
      "   Integrates external classical planners (e.g., using Planning Domain Definition Language) to generate plans. The process involves translating tasks into PDDL, outsourcing planning to a planner, and converting the result back to natural language.\n",
      "\n",
      "3. **Self-Reflection**:  \n",
      "   Adds a feedback loop where the agent reviews its own decomposition steps to refine or correct the plan.\n",
      "\n",
      "These extensions address limitations of pure CoT by enabling parallel reasoning, leveraging domain-specific tools, or incorporating iterative refinement.\n"
     ]
    }
   ],
   "source": [
    "config = {\"configurable\": {\"thread_id\": \"def234\"}}\n",
    "\n",
    "input_message = (\n",
    "    \"What is the standard method for Task Decomposition?\\n\\n\"\n",
    "    \"Once you get the answer, look up common extensions of that method.\"\n",
    ")\n",
    "\n",
    "for event in agent_executor.stream(\n",
    "    {\"messages\": [{\"role\": \"user\", \"content\": input_message}]},\n",
    "    stream_mode=\"values\",\n",
    "    config=config,\n",
    "):\n",
    "    event[\"messages\"][-1].pretty_print()"
   ]
  },
  {
   "cell_type": "code",
   "execution_count": null,
   "id": "92fbc801-ce72-4e92-8c58-bf61b2175517",
   "metadata": {},
   "outputs": [],
   "source": []
  }
 ],
 "metadata": {
  "kernelspec": {
   "display_name": "Python (Ollama)",
   "language": "python",
   "name": "ollama"
  },
  "language_info": {
   "codemirror_mode": {
    "name": "ipython",
    "version": 3
   },
   "file_extension": ".py",
   "mimetype": "text/x-python",
   "name": "python",
   "nbconvert_exporter": "python",
   "pygments_lexer": "ipython3",
   "version": "3.12.3"
  }
 },
 "nbformat": 4,
 "nbformat_minor": 5
}
