{
 "cells": [
  {
   "cell_type": "markdown",
   "id": "13947892-116d-47ed-a483-4c75ff49f613",
   "metadata": {},
   "source": [
    "## Documents and Document Loaders"
   ]
  },
  {
   "cell_type": "code",
   "execution_count": 1,
   "id": "4d8de506-b4a2-4d87-b0ad-57334c7fbd7e",
   "metadata": {},
   "outputs": [],
   "source": [
    "from langchain_core.documents import Document\n",
    "\n",
    "documents = [\n",
    "    Document(\n",
    "        page_content = \"Dogs are great companions, known for their loyalty and friendliness.\",\n",
    "        metadata = {\"source\": \"mammal-pets-doc\"}\n",
    "    ),\n",
    "    Document(\n",
    "        page_content=\"Cats are independent pets that often enjoy their own space.\",\n",
    "        metadata={\"source\": \"mammal-pets-doc\"},\n",
    "    ),\n",
    "]"
   ]
  },
  {
   "cell_type": "markdown",
   "id": "07092406-1d1d-495a-8480-1ad50619c859",
   "metadata": {},
   "source": [
    "### Loading documents"
   ]
  },
  {
   "cell_type": "code",
   "execution_count": 2,
   "id": "c23b7dab-f1c1-46c7-91b5-6fc564a0b307",
   "metadata": {},
   "outputs": [
    {
     "name": "stdout",
     "output_type": "stream",
     "text": [
      "96\n"
     ]
    }
   ],
   "source": [
    "from langchain_community.document_loaders import PyPDFLoader\n",
    "\n",
    "file_path = \"Global_status_report_on_road_safety_2023.pdf\"\n",
    "loader = PyPDFLoader(file_path)\n",
    "\n",
    "docs = loader.load()\n",
    "\n",
    "print(len(docs))"
   ]
  },
  {
   "cell_type": "code",
   "execution_count": 3,
   "id": "36782b71-a953-4a3c-adff-acf7bf2cd8ee",
   "metadata": {},
   "outputs": [
    {
     "name": "stdout",
     "output_type": "stream",
     "text": [
      "Global status report on road safety 2023\n",
      "ISBN 978-92-4-008651-7 (electronic version) \n",
      "ISBN 978-92-4-008652-4 (print version)\n",
      "© World Health Organization 2023\n",
      "Some rights reserved. This work is availab\n",
      "\n",
      "{'producer': 'Adobe PDF Library 17.0', 'creator': 'Adobe InDesign 19.4 (Windows)', 'creationdate': '2024-05-03T11:38:40+07:00', 'moddate': '2024-07-04T14:36:20+02:00', 'trapped': '/False', 'source': 'Global_status_report_on_road_safety_2023.pdf', 'total_pages': 96, 'page': 3, 'page_label': 'd'}\n"
     ]
    }
   ],
   "source": [
    "print(f\"{docs[3].page_content[:200]}\\n\")\n",
    "print(docs[3].metadata)"
   ]
  },
  {
   "cell_type": "markdown",
   "id": "1dfaa0e8-65fc-4071-81d6-22039bdfc096",
   "metadata": {},
   "source": [
    "### Splitting"
   ]
  },
  {
   "cell_type": "code",
   "execution_count": 4,
   "id": "44de1b2f-b117-4d63-b5c0-0eea9b2e292a",
   "metadata": {},
   "outputs": [
    {
     "data": {
      "text/plain": [
       "283"
      ]
     },
     "execution_count": 4,
     "metadata": {},
     "output_type": "execute_result"
    }
   ],
   "source": [
    "from langchain_text_splitters import RecursiveCharacterTextSplitter\n",
    "\n",
    "text_splitter = RecursiveCharacterTextSplitter(\n",
    "    chunk_size=1000, chunk_overlap=200, add_start_index=True\n",
    ")\n",
    "\n",
    "all_splits = text_splitter.split_documents(docs)\n",
    "\n",
    "len(all_splits)"
   ]
  },
  {
   "cell_type": "markdown",
   "id": "c714cee9-3633-4e52-bbb9-a82d79ca655c",
   "metadata": {},
   "source": [
    "## Embeddings"
   ]
  },
  {
   "cell_type": "code",
   "execution_count": 5,
   "id": "6548a75a-1181-459a-ad21-08976ccc1d44",
   "metadata": {},
   "outputs": [],
   "source": [
    "from langchain_ollama import OllamaEmbeddings\n",
    "\n",
    "embeddings = OllamaEmbeddings(model=\"nomic-embed-text\")"
   ]
  },
  {
   "cell_type": "code",
   "execution_count": 6,
   "id": "15bb2b83-e871-45af-9191-7fbe951fff10",
   "metadata": {},
   "outputs": [
    {
     "name": "stdout",
     "output_type": "stream",
     "text": [
      "Generated vectors of length: 768\n",
      "\n",
      "[-0.018381232, 0.005806942, -0.17286521, -0.028823044, 0.07203584, 0.01872876, 0.026769688, 0.03038094, 0.042006318, -0.034976497]\n"
     ]
    }
   ],
   "source": [
    "vector1 = embeddings.embed_query(all_splits[0].page_content)\n",
    "vector2 = embeddings.embed_query(all_splits[1].page_content)\n",
    "\n",
    "assert len(vector1) == len(vector2)\n",
    "print(f\"Generated vectors of length: {len(vector1)}\\n\")\n",
    "print(vector1[:10])"
   ]
  },
  {
   "cell_type": "markdown",
   "id": "900c4c52-0d0f-49a7-9429-5636beefc324",
   "metadata": {},
   "source": [
    "## Vectore Store"
   ]
  },
  {
   "cell_type": "code",
   "execution_count": 7,
   "id": "6b014a37-d681-4480-b986-ae729cc09784",
   "metadata": {},
   "outputs": [],
   "source": [
    "from langchain_core.vectorstores import InMemoryVectorStore\n",
    "\n",
    "vector_store = InMemoryVectorStore(embeddings)"
   ]
  },
  {
   "cell_type": "code",
   "execution_count": 8,
   "id": "8dc7dfaa-cfb2-4b76-af3b-dcdd56f75033",
   "metadata": {},
   "outputs": [],
   "source": [
    "ids = vector_store.add_documents(documents=all_splits)"
   ]
  },
  {
   "cell_type": "markdown",
   "id": "3442fe36-7049-46de-9be8-ad19c1f735bf",
   "metadata": {},
   "source": [
    "### Usage"
   ]
  },
  {
   "cell_type": "code",
   "execution_count": 9,
   "id": "31b6208b-643a-4349-8213-5e238be7efa6",
   "metadata": {},
   "outputs": [
    {
     "name": "stdout",
     "output_type": "stream",
     "text": [
      "page_content='nean \n",
      "Region\n",
      "South-\n",
      "East Asia \n",
      "Region Western \n",
      "Paciﬁc \n",
      "Region\n",
      "European \n",
      "Region\n",
      "7Section 1. The global burden of road traffic deaths\n",
      "Fatality counts and rates, by \n",
      "region and country-income \n",
      "level\n",
      "The vast majority of road traffic deaths, 92%, \n",
      "occur in upper-middle, lower-middle, and \n",
      "low-income countries combined. Seventy-\n",
      "nine percent of road traffic deaths occur in \n",
      "lower-middle-income countries and upper-\n",
      "middle-income countries combined (44% and \n",
      "35% respectively), with low-income countries \n",
      "accounting for 13%, and high-income \n",
      "countries accounting for the remaining 8%. \n",
      "Relative to the size of countries’ motor \n",
      "vehicle fleets and road networks, there is a \n",
      "disproportionately high number of fatalities in \n",
      "low- and middle-income countries compared \n",
      "to high-income countries. For example, high-\n",
      "income countries have 16% of the world’s \n",
      "population, 28% of the world’s vehicle fleet, \n",
      "88% of all paved inter-urban roads, and 8% of \n",
      "fatalities; by contrast, low-income countries' metadata={'producer': 'Adobe PDF Library 17.0', 'creator': 'Adobe InDesign 19.4 (Windows)', 'creationdate': '2024-05-03T11:38:40+07:00', 'moddate': '2024-07-04T14:36:20+02:00', 'trapped': '/False', 'source': 'Global_status_report_on_road_safety_2023.pdf', 'total_pages': 96, 'page': 18, 'page_label': '7', 'start_index': 758}\n"
     ]
    }
   ],
   "source": [
    "results = vector_store.similarity_search(\n",
    "    \"Which regions are the most affected by traffic accidents?\"\n",
    ")\n",
    "\n",
    "print(results[0])"
   ]
  },
  {
   "cell_type": "code",
   "execution_count": 14,
   "id": "322c66eb-b9dd-4801-9085-b3f8a2049a09",
   "metadata": {},
   "outputs": [
    {
     "name": "stdout",
     "output_type": "stream",
     "text": [
      "page_content='include deaths that occur at the scene, or \n",
      "within a limited time period from the date of \n",
      "the crash. \n",
      "Producing a global morbidity figure for \n",
      "road traffic crashes is challenging, because \n",
      "around a third of countries report no measure \n",
      "for nonfatal cases, while the other two \n",
      "thirds report using a variety of operational \n",
      "definitions. Only 114 countries report having \n",
      "a specific definition for injuries that result \n",
      "from a road traffic crash. More than half of \n",
      "these countries (57%) use either the need for \n",
      "hospitalization as the operational definition \n",
      "(or hospitalization plus another condition) \n",
      "or require three or more days of leave from \n",
      "work. The next most common definition \n",
      "used by more than 10% of countries relates \n",
      "to standardized injury definitions such as the \n",
      "Maximum Abbreviated Injury Scale (MAIS) \n",
      "(39), the Revised Trauma Score (RTS) (40), or \n",
      "the Mechanism/Glasgow Coma Score (Age/\n",
      "Pressure (MGAP) (41). The remaining countries \n",
      "report using a variety of definitions.' metadata={'producer': 'Adobe PDF Library 17.0', 'creator': 'Adobe InDesign 19.4 (Windows)', 'creationdate': '2024-05-03T11:38:40+07:00', 'moddate': '2024-07-04T14:36:20+02:00', 'trapped': '/False', 'source': 'Global_status_report_on_road_safety_2023.pdf', 'total_pages': 96, 'page': 56, 'page_label': '45', 'start_index': 1576}\n"
     ]
    }
   ],
   "source": [
    "results = await vector_store.asimilarity_search(\n",
    "    \"what are the primary causes of accidents?\"\n",
    ")\n",
    "\n",
    "print(results[0])"
   ]
  },
  {
   "cell_type": "code",
   "execution_count": 15,
   "id": "04e9750d-ca3d-4db3-a8e3-66e6ffd93f1b",
   "metadata": {},
   "outputs": [
    {
     "name": "stdout",
     "output_type": "stream",
     "text": [
      "Score: 0.6684215718992772\n",
      "\n",
      "page_content='from the WHO Division of Data, Analytics and Delivery \n",
      "for Impact. Overall supervision was provided by Nhan \n",
      "Tran and Etienne Krug.\n",
      "Advisory Board members actively participated in the study \n",
      "design and the review of the report: Shrikant Bangdiwala, \n",
      "McMaster University, Canada; Said Dahdah, Global Road \n",
      "Safety Facility at the World Bank, Washington (DC), \n",
      "United States of America (USA); Jennifer Ellis, Bloomberg \n",
      "Philanthropies, New York, United States of America \n",
      "(USA); Eduard Fernandez, CITA – the International Motor \n",
      "Vehicle Inspection Committee, Brussels, Belgium; Floor \n",
      "Lieshout, Youth for Road Safety (YOURS), Culemborg, the \n",
      "Netherlands; John Milton, Road Safety Committee World \n",
      "Road Association (Permanent International Association of \n",
      "Road Congresses -PIARC), Paris, France; Fernanda Rivera, \n",
      "Road Safety and Sustainable Urban Mobility, Mexico City’s \n",
      "Mobility Ministry; David Studdert, Stanford University, \n",
      "California, United States of America (USA) ; Claes Tingvall,' metadata={'producer': 'Adobe PDF Library 17.0', 'creator': 'Adobe InDesign 19.4 (Windows)', 'creationdate': '2024-05-03T11:38:40+07:00', 'moddate': '2024-07-04T14:36:20+02:00', 'trapped': '/False', 'source': 'Global_status_report_on_road_safety_2023.pdf', 'total_pages': 96, 'page': 7, 'page_label': 'vi', 'start_index': 802}\n"
     ]
    }
   ],
   "source": [
    "results = vector_store.similarity_search_with_score(\"Who wrote this report?\")\n",
    "doc, score = results[0]\n",
    "print(f\"Score: {score}\\n\")\n",
    "print(doc)"
   ]
  },
  {
   "cell_type": "code",
   "execution_count": 16,
   "id": "4bff2d78-da57-47c5-b947-166738b1f623",
   "metadata": {},
   "outputs": [
    {
     "name": "stdout",
     "output_type": "stream",
     "text": [
      "page_content='Section 4.  \n",
      "Measures to \n",
      "strengthen \n",
      "road safety \n",
      "governance\n",
      "171 countries have a dedicated road safety agency.\n",
      "117 countries report having a national road safety \n",
      "strategy, while just 16 of these strategies are \n",
      "fully funded.\n",
      "More than half of countries use general taxes on \n",
      "vehicle purchases, insurance, fuel and alcoholic \n",
      "beverages among others, to finance road \n",
      "safety activities.\n",
      "About half of all countries use dedicated taxes \n",
      "and fines from traffic violations to finance road \n",
      "safety activities.\n",
      "Differences between reported counts of road traffic \n",
      "deaths and WHO estimated counts exist in 120 \n",
      "countries. In some cases the WHO estimates are 10 \n",
      "times higher, and in one case, 49 times higher, than \n",
      "self-reported figures.\n",
      "Only 114 countries report having a specific definition \n",
      "for injuries that result from a road traffic crash.' metadata={'producer': 'Adobe PDF Library 17.0', 'creator': 'Adobe InDesign 19.4 (Windows)', 'creationdate': '2024-05-03T11:38:40+07:00', 'moddate': '2024-07-04T14:36:20+02:00', 'trapped': '/False', 'source': 'Global_status_report_on_road_safety_2023.pdf', 'total_pages': 96, 'page': 54, 'page_label': '43', 'start_index': 0}\n"
     ]
    }
   ],
   "source": [
    "embedding = embeddings.embed_query(\"who are responsible for road accidents\")\n",
    "\n",
    "results = vector_store.similarity_search_by_vector(embedding)\n",
    "print(results[0])"
   ]
  },
  {
   "cell_type": "markdown",
   "id": "96f61a9d-40ae-45e7-8670-d3f27edf4748",
   "metadata": {},
   "source": [
    "## Retrievers"
   ]
  },
  {
   "cell_type": "code",
   "execution_count": 17,
   "id": "1cdc7dfb-1271-478e-a954-2788bae9f197",
   "metadata": {},
   "outputs": [
    {
     "data": {
      "text/plain": [
       "[[Document(id='de4d0902-00d6-4fd9-8454-07683874f46c', metadata={'producer': 'Adobe PDF Library 17.0', 'creator': 'Adobe InDesign 19.4 (Windows)', 'creationdate': '2024-05-03T11:38:40+07:00', 'moddate': '2024-07-04T14:36:20+02:00', 'trapped': '/False', 'source': 'Global_status_report_on_road_safety_2023.pdf', 'total_pages': 96, 'page': 7, 'page_label': 'vi', 'start_index': 2421}, page_content='the List of contributors) and approximately 800 or more \\ncollaborators. Country1 data delivery involved the use of \\na data entry platform and securing consensus among \\nparticipants. \\nCountry-level participation was facilitated through the \\nWHO designated Regional Data Focal Points who were \\nresponsible for training and supervision of country \\ncollaborators, and who also reviewed the report: Eunice \\nChomi and Idrissa Talla (African Region), Alessandra \\nSenisse (Region of the Americas), Rania Saad (South-\\nEast Asia Region and Eastern Mediterranean Region), \\nand Roseanne Vandermeer (Western Pacific Region). \\nFurther support at WHO regional level was provided \\nby Binta Sako (African Region), Ricardo Pérez-Núñez \\n(Region of the Americas), Tashi Tobgay (South-East \\nAsia Region), Jonathon Passmore – who also acted \\nas Regional Data Focal Point (European Region), Hala \\nSakr Ali (Eastern Mediterranean Region), and Fang Dan  \\n(Western Pacific Region).')],\n",
       " [Document(id='80dc9ae7-179e-4eb7-96d5-d8e4cb9e30ed', metadata={'producer': 'Adobe PDF Library 17.0', 'creator': 'Adobe InDesign 19.4 (Windows)', 'creationdate': '2024-05-03T11:38:40+07:00', 'moddate': '2024-07-04T14:36:20+02:00', 'trapped': '/False', 'source': 'Global_status_report_on_road_safety_2023.pdf', 'total_pages': 96, 'page': 45, 'page_label': '34', 'start_index': 0}, page_content='34\\nGlobal status report on road safety 2023')]]"
      ]
     },
     "execution_count": 17,
     "metadata": {},
     "output_type": "execute_result"
    }
   ],
   "source": [
    "from typing import List\n",
    "\n",
    "from langchain_core.documents import Document\n",
    "from langchain_core.runnables import chain\n",
    "\n",
    "@chain\n",
    "def retriever(query: str) -> List[Document]:\n",
    "    return vector_store.similarity_search(query, k=1)\n",
    "\n",
    "retriever.batch(\n",
    "    [\n",
    "        \"How many regions are involved in this report?\",\n",
    "        \"When was this report made?\"\n",
    "    ]\n",
    ")"
   ]
  },
  {
   "cell_type": "code",
   "execution_count": 18,
   "id": "01efbbce-5944-4635-b7ca-c5f59a216c72",
   "metadata": {},
   "outputs": [
    {
     "data": {
      "text/plain": [
       "[[Document(id='de4d0902-00d6-4fd9-8454-07683874f46c', metadata={'producer': 'Adobe PDF Library 17.0', 'creator': 'Adobe InDesign 19.4 (Windows)', 'creationdate': '2024-05-03T11:38:40+07:00', 'moddate': '2024-07-04T14:36:20+02:00', 'trapped': '/False', 'source': 'Global_status_report_on_road_safety_2023.pdf', 'total_pages': 96, 'page': 7, 'page_label': 'vi', 'start_index': 2421}, page_content='the List of contributors) and approximately 800 or more \\ncollaborators. Country1 data delivery involved the use of \\na data entry platform and securing consensus among \\nparticipants. \\nCountry-level participation was facilitated through the \\nWHO designated Regional Data Focal Points who were \\nresponsible for training and supervision of country \\ncollaborators, and who also reviewed the report: Eunice \\nChomi and Idrissa Talla (African Region), Alessandra \\nSenisse (Region of the Americas), Rania Saad (South-\\nEast Asia Region and Eastern Mediterranean Region), \\nand Roseanne Vandermeer (Western Pacific Region). \\nFurther support at WHO regional level was provided \\nby Binta Sako (African Region), Ricardo Pérez-Núñez \\n(Region of the Americas), Tashi Tobgay (South-East \\nAsia Region), Jonathon Passmore – who also acted \\nas Regional Data Focal Point (European Region), Hala \\nSakr Ali (Eastern Mediterranean Region), and Fang Dan  \\n(Western Pacific Region).')],\n",
       " [Document(id='80dc9ae7-179e-4eb7-96d5-d8e4cb9e30ed', metadata={'producer': 'Adobe PDF Library 17.0', 'creator': 'Adobe InDesign 19.4 (Windows)', 'creationdate': '2024-05-03T11:38:40+07:00', 'moddate': '2024-07-04T14:36:20+02:00', 'trapped': '/False', 'source': 'Global_status_report_on_road_safety_2023.pdf', 'total_pages': 96, 'page': 45, 'page_label': '34', 'start_index': 0}, page_content='34\\nGlobal status report on road safety 2023')]]"
      ]
     },
     "execution_count": 18,
     "metadata": {},
     "output_type": "execute_result"
    }
   ],
   "source": [
    "retriever = vector_store.as_retriever(\n",
    "    search_type='similarity',\n",
    "    search_kwargs={\"k\":1}\n",
    ")\n",
    "\n",
    "retriever.batch(\n",
    "    [\n",
    "        \"How many regions are involved in this report?\",\n",
    "        \"When was this report made?\"\n",
    "    ]\n",
    ")"
   ]
  },
  {
   "cell_type": "code",
   "execution_count": null,
   "id": "9ef4121b-8dde-4289-96cd-30f40b8b5bc0",
   "metadata": {},
   "outputs": [],
   "source": []
  }
 ],
 "metadata": {
  "kernelspec": {
   "display_name": "Python (Ollama)",
   "language": "python",
   "name": "ollama"
  },
  "language_info": {
   "codemirror_mode": {
    "name": "ipython",
    "version": 3
   },
   "file_extension": ".py",
   "mimetype": "text/x-python",
   "name": "python",
   "nbconvert_exporter": "python",
   "pygments_lexer": "ipython3",
   "version": "3.12.3"
  }
 },
 "nbformat": 4,
 "nbformat_minor": 5
}
