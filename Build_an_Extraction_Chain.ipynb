{
 "cells": [
  {
   "cell_type": "code",
   "execution_count": null,
   "id": "c077b4ce-8922-40b5-a707-289c768b0b73",
   "metadata": {},
   "outputs": [],
   "source": []
  }
 ],
 "metadata": {
  "kernelspec": {
   "display_name": "",
   "name": ""
  },
  "language_info": {
   "name": ""
  }
 },
 "nbformat": 4,
 "nbformat_minor": 5
}
